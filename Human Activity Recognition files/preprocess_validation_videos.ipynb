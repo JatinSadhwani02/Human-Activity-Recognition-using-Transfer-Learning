{
  "nbformat": 4,
  "nbformat_minor": 0,
  "metadata": {
    "colab": {
      "name": "preprocess_validation_videos.ipynb",
      "provenance": []
    },
    "kernelspec": {
      "name": "python3",
      "display_name": "Python 3"
    },
    "language_info": {
      "name": "python"
    }
  },
  "cells": [
    {
      "cell_type": "code",
      "metadata": {
        "id": "8BcD_H7_HHp1"
      },
      "source": [
        ""
      ],
      "execution_count": null,
      "outputs": []
    },
    {
      "cell_type": "code",
      "metadata": {
        "id": "esTHszusHEAi"
      },
      "source": [
        ""
      ],
      "execution_count": null,
      "outputs": []
    },
    {
      "cell_type": "markdown",
      "metadata": {
        "id": "bzfuD_ljqFPN"
      },
      "source": [
        "# ***Download Videos, Trim video and make frames from videos (It's only for Validation.csv)***"
      ]
    },
    {
      "cell_type": "code",
      "metadata": {
        "colab": {
          "base_uri": "https://localhost:8080/"
        },
        "id": "XPz-zRg7J-sB",
        "outputId": "1118900f-fc82-4f37-8b0c-659af0dd0b2f"
      },
      "source": [
        "# Import libraries\n",
        "import pandas as pd\n",
        "import os \n",
        "import shutil\n",
        "import cv2 \n",
        "import os\n",
        "from moviepy.editor import *\n",
        "!pip install pytube"
      ],
      "execution_count": null,
      "outputs": [
        {
          "output_type": "stream",
          "text": [
            "Imageio: 'ffmpeg-linux64-v3.3.1' was not found on your computer; downloading it now.\n",
            "Try 1. Download from https://github.com/imageio/imageio-binaries/raw/master/ffmpeg/ffmpeg-linux64-v3.3.1 (43.8 MB)\n",
            "Downloading: 8192/45929032 bytes (0.0%)\b\b\b\b\b\b\b\b\b\b\b\b\b\b\b\b\b\b\b\b\b\b\b\b\b\b2867200/45929032 bytes (6.2%)\b\b\b\b\b\b\b\b\b\b\b\b\b\b\b\b\b\b\b\b\b\b\b\b\b\b\b\b\b6127616/45929032 bytes (13.3%)\b\b\b\b\b\b\b\b\b\b\b\b\b\b\b\b\b\b\b\b\b\b\b\b\b\b\b\b\b\b9363456/45929032 bytes (20.4%)\b\b\b\b\b\b\b\b\b\b\b\b\b\b\b\b\b\b\b\b\b\b\b\b\b\b\b\b\b\b12500992/45929032 bytes (27.2%)\b\b\b\b\b\b\b\b\b\b\b\b\b\b\b\b\b\b\b\b\b\b\b\b\b\b\b\b\b\b\b15933440/45929032 bytes (34.7%)\b\b\b\b\b\b\b\b\b\b\b\b\b\b\b\b\b\b\b\b\b\b\b\b\b\b\b\b\b\b\b19087360/45929032 bytes (41.6%)\b\b\b\b\b\b\b\b\b\b\b\b\b\b\b\b\b\b\b\b\b\b\b\b\b\b\b\b\b\b\b22315008/45929032 bytes (48.6%)\b\b\b\b\b\b\b\b\b\b\b\b\b\b\b\b\b\b\b\b\b\b\b\b\b\b\b\b\b\b\b25649152/45929032 bytes (55.8%)\b\b\b\b\b\b\b\b\b\b\b\b\b\b\b\b\b\b\b\b\b\b\b\b\b\b\b\b\b\b\b29040640/45929032 bytes (63.2%)\b\b\b\b\b\b\b\b\b\b\b\b\b\b\b\b\b\b\b\b\b\b\b\b\b\b\b\b\b\b\b32309248/45929032 bytes (70.3%)\b\b\b\b\b\b\b\b\b\b\b\b\b\b\b\b\b\b\b\b\b\b\b\b\b\b\b\b\b\b\b35602432/45929032 bytes (77.5%)\b\b\b\b\b\b\b\b\b\b\b\b\b\b\b\b\b\b\b\b\b\b\b\b\b\b\b\b\b\b\b38895616/45929032 bytes (84.7%)\b\b\b\b\b\b\b\b\b\b\b\b\b\b\b\b\b\b\b\b\b\b\b\b\b\b\b\b\b\b\b42106880/45929032 bytes (91.7%)\b\b\b\b\b\b\b\b\b\b\b\b\b\b\b\b\b\b\b\b\b\b\b\b\b\b\b\b\b\b\b43597824/45929032 bytes (94.9%)\b\b\b\b\b\b\b\b\b\b\b\b\b\b\b\b\b\b\b\b\b\b\b\b\b\b\b\b\b\b\b45929032/45929032 bytes (100.0%)\n",
            "  Done\n",
            "File saved as /root/.imageio/ffmpeg/ffmpeg-linux64-v3.3.1.\n",
            "Collecting pytube\n",
            "\u001b[?25l  Downloading https://files.pythonhosted.org/packages/91/96/0cc31cb18fda662a5ae235dff33ad66dfbc94bf46f19e9e22cb1960b3253/pytube-10.7.2-py3-none-any.whl (42kB)\n",
            "\u001b[K     |████████████████████████████████| 51kB 3.8MB/s \n",
            "\u001b[?25hInstalling collected packages: pytube\n",
            "Successfully installed pytube-10.7.2\n"
          ],
          "name": "stdout"
        }
      ]
    },
    {
      "cell_type": "code",
      "metadata": {
        "id": "ev9qOz4EKCLc"
      },
      "source": [
        "# Remove training folder if exist\n",
        "shutil.rmtree('Validation')"
      ],
      "execution_count": null,
      "outputs": []
    },
    {
      "cell_type": "code",
      "metadata": {
        "id": "xfuJzXI5KF-t"
      },
      "source": [
        "# Make folder of each category one by one in training folder\n",
        "cat = \"roller skating\"\n",
        "f=\"Roller Skating\"\n",
        "os.mkdir(\"Validation\")\n",
        "os.mkdir(f\"Validation/{cat}\")"
      ],
      "execution_count": null,
      "outputs": []
    },
    {
      "cell_type": "code",
      "metadata": {
        "id": "pDrrjahpuTgO"
      },
      "source": [
        ""
      ],
      "execution_count": null,
      "outputs": []
    },
    {
      "cell_type": "code",
      "metadata": {
        "id": "3B6kHXSlKGBe"
      },
      "source": [
        "# load data\n",
        "val = pd.read_csv(\"/content/drive/MyDrive/Technocolab/Validation.csv\")"
      ],
      "execution_count": null,
      "outputs": []
    },
    {
      "cell_type": "code",
      "metadata": {
        "id": "Uxr8T7n_N7Lf"
      },
      "source": [
        ""
      ],
      "execution_count": null,
      "outputs": []
    },
    {
      "cell_type": "code",
      "metadata": {
        "colab": {
          "base_uri": "https://localhost:8080/"
        },
        "id": "vAEQiWc0KGEA",
        "outputId": "09953bb4-15c0-4eeb-d41e-b22f740f94a2"
      },
      "source": [
        "# Check unique values\n",
        "val['label'].unique()"
      ],
      "execution_count": null,
      "outputs": [
        {
          "output_type": "execute_result",
          "data": {
            "text/plain": [
              "array(['paragliding', 'catching or throwing baseball', 'dancing macarena',\n",
              "       'laughing', 'eating cake', 'beatboxing', 'feeding birds',\n",
              "       'opening present', 'swinging on something', 'making pizza',\n",
              "       'kitesurfing', 'ice climbing', 'slacklining', 'chopping wood',\n",
              "       'cartwheeling', 'archery', 'welding', 'roller skating',\n",
              "       'playing flute', 'deadlifting', 'bouncing on trampoline',\n",
              "       'shoveling snow', 'playing keyboard', 'celebrating', 'high jump',\n",
              "       'capoeira', 'finger snapping', 'side kick', 'brushing hair',\n",
              "       'cooking sausages', 'throwing ball', 'hammer throw',\n",
              "       'dribbling basketball', 'stretching leg', 'breakdancing',\n",
              "       'snowmobiling', 'canoeing or kayaking', 'headbanging',\n",
              "       'exercising with an exercise ball', 'blowing out candles',\n",
              "       'watering plants', 'cheerleading', 'milking cow', 'snowboarding',\n",
              "       'driving car'], dtype=object)"
            ]
          },
          "metadata": {
            "tags": []
          },
          "execution_count": 4
        }
      ]
    },
    {
      "cell_type": "code",
      "metadata": {
        "colab": {
          "base_uri": "https://localhost:8080/",
          "height": 432
        },
        "id": "_T8c_foGKGFn",
        "outputId": "e73294e2-087f-47da-f9a3-0e81e7a20816"
      },
      "source": [
        "# check length of data\n",
        "val[val['label']==cat]"
      ],
      "execution_count": null,
      "outputs": [
        {
          "output_type": "execute_result",
          "data": {
            "text/html": [
              "<div>\n",
              "<style scoped>\n",
              "    .dataframe tbody tr th:only-of-type {\n",
              "        vertical-align: middle;\n",
              "    }\n",
              "\n",
              "    .dataframe tbody tr th {\n",
              "        vertical-align: top;\n",
              "    }\n",
              "\n",
              "    .dataframe thead th {\n",
              "        text-align: right;\n",
              "    }\n",
              "</style>\n",
              "<table border=\"1\" class=\"dataframe\">\n",
              "  <thead>\n",
              "    <tr style=\"text-align: right;\">\n",
              "      <th></th>\n",
              "      <th>Unnamed: 0</th>\n",
              "      <th>label</th>\n",
              "      <th>youtube_id</th>\n",
              "      <th>time_start</th>\n",
              "      <th>time_end</th>\n",
              "      <th>split</th>\n",
              "    </tr>\n",
              "  </thead>\n",
              "  <tbody>\n",
              "    <tr>\n",
              "      <th>249</th>\n",
              "      <td>249</td>\n",
              "      <td>roller skating</td>\n",
              "      <td>-1xDshoKGiw</td>\n",
              "      <td>168</td>\n",
              "      <td>178</td>\n",
              "      <td>validate</td>\n",
              "    </tr>\n",
              "    <tr>\n",
              "      <th>250</th>\n",
              "      <td>250</td>\n",
              "      <td>roller skating</td>\n",
              "      <td>0KMwj0US2dE</td>\n",
              "      <td>151</td>\n",
              "      <td>161</td>\n",
              "      <td>validate</td>\n",
              "    </tr>\n",
              "    <tr>\n",
              "      <th>251</th>\n",
              "      <td>251</td>\n",
              "      <td>roller skating</td>\n",
              "      <td>3bFwqbwgvHw</td>\n",
              "      <td>301</td>\n",
              "      <td>311</td>\n",
              "      <td>validate</td>\n",
              "    </tr>\n",
              "    <tr>\n",
              "      <th>252</th>\n",
              "      <td>252</td>\n",
              "      <td>roller skating</td>\n",
              "      <td>4eu9MQUwRRo</td>\n",
              "      <td>23</td>\n",
              "      <td>33</td>\n",
              "      <td>validate</td>\n",
              "    </tr>\n",
              "    <tr>\n",
              "      <th>253</th>\n",
              "      <td>253</td>\n",
              "      <td>roller skating</td>\n",
              "      <td>6CEV2jpEZjY</td>\n",
              "      <td>113</td>\n",
              "      <td>123</td>\n",
              "      <td>validate</td>\n",
              "    </tr>\n",
              "    <tr>\n",
              "      <th>254</th>\n",
              "      <td>254</td>\n",
              "      <td>roller skating</td>\n",
              "      <td>7XpLffye0IA</td>\n",
              "      <td>100</td>\n",
              "      <td>110</td>\n",
              "      <td>validate</td>\n",
              "    </tr>\n",
              "    <tr>\n",
              "      <th>255</th>\n",
              "      <td>255</td>\n",
              "      <td>roller skating</td>\n",
              "      <td>8A_MCNf8em4</td>\n",
              "      <td>64</td>\n",
              "      <td>74</td>\n",
              "      <td>validate</td>\n",
              "    </tr>\n",
              "    <tr>\n",
              "      <th>256</th>\n",
              "      <td>256</td>\n",
              "      <td>roller skating</td>\n",
              "      <td>8yoMHlEeZXU</td>\n",
              "      <td>19</td>\n",
              "      <td>29</td>\n",
              "      <td>validate</td>\n",
              "    </tr>\n",
              "    <tr>\n",
              "      <th>257</th>\n",
              "      <td>257</td>\n",
              "      <td>roller skating</td>\n",
              "      <td>9VRLiqOiHrk</td>\n",
              "      <td>85</td>\n",
              "      <td>95</td>\n",
              "      <td>validate</td>\n",
              "    </tr>\n",
              "    <tr>\n",
              "      <th>258</th>\n",
              "      <td>258</td>\n",
              "      <td>roller skating</td>\n",
              "      <td>9vU8zlfnayY</td>\n",
              "      <td>81</td>\n",
              "      <td>91</td>\n",
              "      <td>validate</td>\n",
              "    </tr>\n",
              "    <tr>\n",
              "      <th>259</th>\n",
              "      <td>259</td>\n",
              "      <td>roller skating</td>\n",
              "      <td>AD-2M-QdE0I</td>\n",
              "      <td>1</td>\n",
              "      <td>11</td>\n",
              "      <td>validate</td>\n",
              "    </tr>\n",
              "    <tr>\n",
              "      <th>260</th>\n",
              "      <td>260</td>\n",
              "      <td>roller skating</td>\n",
              "      <td>GMY_fchm0k4</td>\n",
              "      <td>159</td>\n",
              "      <td>169</td>\n",
              "      <td>validate</td>\n",
              "    </tr>\n",
              "    <tr>\n",
              "      <th>261</th>\n",
              "      <td>261</td>\n",
              "      <td>roller skating</td>\n",
              "      <td>Igu7XnKJvVg</td>\n",
              "      <td>178</td>\n",
              "      <td>188</td>\n",
              "      <td>validate</td>\n",
              "    </tr>\n",
              "  </tbody>\n",
              "</table>\n",
              "</div>"
            ],
            "text/plain": [
              "     Unnamed: 0           label   youtube_id  time_start  time_end     split\n",
              "249         249  roller skating  -1xDshoKGiw         168       178  validate\n",
              "250         250  roller skating  0KMwj0US2dE         151       161  validate\n",
              "251         251  roller skating  3bFwqbwgvHw         301       311  validate\n",
              "252         252  roller skating  4eu9MQUwRRo          23        33  validate\n",
              "253         253  roller skating  6CEV2jpEZjY         113       123  validate\n",
              "254         254  roller skating  7XpLffye0IA         100       110  validate\n",
              "255         255  roller skating  8A_MCNf8em4          64        74  validate\n",
              "256         256  roller skating  8yoMHlEeZXU          19        29  validate\n",
              "257         257  roller skating  9VRLiqOiHrk          85        95  validate\n",
              "258         258  roller skating  9vU8zlfnayY          81        91  validate\n",
              "259         259  roller skating  AD-2M-QdE0I           1        11  validate\n",
              "260         260  roller skating  GMY_fchm0k4         159       169  validate\n",
              "261         261  roller skating  Igu7XnKJvVg         178       188  validate"
            ]
          },
          "metadata": {
            "tags": []
          },
          "execution_count": 5
        }
      ]
    },
    {
      "cell_type": "code",
      "metadata": {
        "colab": {
          "base_uri": "https://localhost:8080/"
        },
        "id": "qbkoyv-qKGJp",
        "outputId": "51f55c1d-c21c-4859-f065-a939f5e08961"
      },
      "source": [
        "# download videos of each category one by one\n",
        "from pytube import YouTube \n",
        "l=[]\n",
        "for i in range(249,262):\n",
        "  print(val['label'][i] , val['youtube_id'][i] , i) \n",
        "  # where to save \n",
        "  SAVE_PATH = f\"/content/Validation/{cat}\" #to_do \n",
        "    \n",
        "  # link of the video to be downloaded \n",
        "  link=f\"https://www.youtube.com/watch?v={val['youtube_id'][i]}\"\n",
        " \n",
        "  yt = YouTube(link)\n",
        "  filters = yt.streams.filter(progressive=True, file_extension='mp4') \n",
        "\n",
        "  d_video = filters.get_lowest_resolution() \n",
        "  d_video.download(SAVE_PATH) \n",
        "\n",
        "print('Task Completed!')"
      ],
      "execution_count": null,
      "outputs": [
        {
          "output_type": "stream",
          "text": [
            "roller skating -1xDshoKGiw 249\n",
            "roller skating 0KMwj0US2dE 250\n",
            "roller skating 3bFwqbwgvHw 251\n",
            "roller skating 4eu9MQUwRRo 252\n",
            "roller skating 6CEV2jpEZjY 253\n",
            "roller skating 7XpLffye0IA 254\n",
            "roller skating 8A_MCNf8em4 255\n",
            "roller skating 8yoMHlEeZXU 256\n",
            "roller skating 9VRLiqOiHrk 257\n",
            "roller skating 9vU8zlfnayY 258\n",
            "roller skating AD-2M-QdE0I 259\n",
            "roller skating GMY_fchm0k4 260\n",
            "roller skating Igu7XnKJvVg 261\n",
            "Task Completed!\n"
          ],
          "name": "stdout"
        }
      ]
    },
    {
      "cell_type": "code",
      "metadata": {
        "id": "8FLepKUGKGLJ"
      },
      "source": [
        "# make category folder in which we store our trim video\n",
        "os.mkdir(cat)"
      ],
      "execution_count": null,
      "outputs": []
    },
    {
      "cell_type": "code",
      "metadata": {
        "id": "N8UckRJ7KGPT",
        "colab": {
          "base_uri": "https://localhost:8080/"
        },
        "outputId": "a74e137f-7daf-4738-b384-e60122934ce4"
      },
      "source": [
        "# trim video\n",
        "k=0\n",
        "l = []\n",
        "for i in os.listdir(f\"/content/Validation/{cat}\"):\n",
        "  try:\n",
        "\n",
        "    print(val['time_start'][k], val['time_end'][k], val['youtube_id'][k])\n",
        "    clip = VideoFileClip(f\"/content/Validation/{cat}/{i}\") \n",
        "    clip = clip.subclip(val['time_start'][k], val['time_end'][k]) \n",
        "    clip.write_videofile(f\"/content/{cat}/{k}.mp4\")\n",
        "    k+=1\n",
        "  except:\n",
        "    k+=1\n",
        "    l.append( [i , k] )\n",
        "    print(\"Errror\") "
      ],
      "execution_count": null,
      "outputs": [
        {
          "output_type": "stream",
          "text": [
            "39 49 -errNPiGXF4\n",
            "[MoviePy] >>>> Building video /content/roller skating/0.mp4\n",
            "[MoviePy] Writing audio in 0TEMP_MPY_wvf_snd.mp3\n"
          ],
          "name": "stdout"
        },
        {
          "output_type": "stream",
          "text": [
            "100%|██████████| 221/221 [00:00<00:00, 555.36it/s]\n"
          ],
          "name": "stderr"
        },
        {
          "output_type": "stream",
          "text": [
            "[MoviePy] Done.\n",
            "[MoviePy] Writing video /content/roller skating/0.mp4\n"
          ],
          "name": "stdout"
        },
        {
          "output_type": "stream",
          "text": [
            "100%|█████████▉| 250/251 [00:04<00:00, 54.65it/s]\n"
          ],
          "name": "stderr"
        },
        {
          "output_type": "stream",
          "text": [
            "[MoviePy] Done.\n",
            "[MoviePy] >>>> Video ready: /content/roller skating/0.mp4 \n",
            "\n",
            "94 104 2DBSZcOBQ_Q\n",
            "[MoviePy] >>>> Building video /content/roller skating/1.mp4\n",
            "[MoviePy] Writing audio in 1TEMP_MPY_wvf_snd.mp3\n"
          ],
          "name": "stdout"
        },
        {
          "output_type": "stream",
          "text": [
            "100%|██████████| 221/221 [00:00<00:00, 492.64it/s]"
          ],
          "name": "stderr"
        },
        {
          "output_type": "stream",
          "text": [
            "[MoviePy] Done.\n",
            "[MoviePy] Writing video /content/roller skating/1.mp4\n"
          ],
          "name": "stdout"
        },
        {
          "output_type": "stream",
          "text": [
            "\n",
            "100%|██████████| 300/300 [00:04<00:00, 73.73it/s]\n"
          ],
          "name": "stderr"
        },
        {
          "output_type": "stream",
          "text": [
            "[MoviePy] Done.\n",
            "[MoviePy] >>>> Video ready: /content/roller skating/1.mp4 \n",
            "\n",
            "18 28 35fLDSGGWXc\n",
            "[MoviePy] >>>> Building video /content/roller skating/2.mp4\n",
            "[MoviePy] Writing audio in 2TEMP_MPY_wvf_snd.mp3\n"
          ],
          "name": "stdout"
        },
        {
          "output_type": "stream",
          "text": [
            "100%|██████████| 221/221 [00:00<00:00, 558.42it/s]"
          ],
          "name": "stderr"
        },
        {
          "output_type": "stream",
          "text": [
            "[MoviePy] Done.\n",
            "[MoviePy] Writing video /content/roller skating/2.mp4\n"
          ],
          "name": "stdout"
        },
        {
          "output_type": "stream",
          "text": [
            "\n",
            "100%|██████████| 300/300 [00:04<00:00, 61.32it/s]\n"
          ],
          "name": "stderr"
        },
        {
          "output_type": "stream",
          "text": [
            "[MoviePy] Done.\n",
            "[MoviePy] >>>> Video ready: /content/roller skating/2.mp4 \n",
            "\n",
            "3 13 3CVyE039-lA\n",
            "[MoviePy] >>>> Building video /content/roller skating/3.mp4\n",
            "[MoviePy] Writing audio in 3TEMP_MPY_wvf_snd.mp3\n"
          ],
          "name": "stdout"
        },
        {
          "output_type": "stream",
          "text": [
            "100%|██████████| 221/221 [00:00<00:00, 649.64it/s]"
          ],
          "name": "stderr"
        },
        {
          "output_type": "stream",
          "text": [
            "[MoviePy] Done.\n",
            "[MoviePy] Writing video /content/roller skating/3.mp4\n"
          ],
          "name": "stdout"
        },
        {
          "output_type": "stream",
          "text": [
            "\n",
            "100%|█████████▉| 250/251 [00:02<00:00, 99.41it/s]\n"
          ],
          "name": "stderr"
        },
        {
          "output_type": "stream",
          "text": [
            "[MoviePy] Done.\n",
            "[MoviePy] >>>> Video ready: /content/roller skating/3.mp4 \n",
            "\n",
            "184 194 5C3Gyqp-iUA\n",
            "[MoviePy] >>>> Building video /content/roller skating/4.mp4\n",
            "[MoviePy] Writing audio in 4TEMP_MPY_wvf_snd.mp3\n"
          ],
          "name": "stdout"
        },
        {
          "output_type": "stream",
          "text": [
            "100%|██████████| 221/221 [00:00<00:00, 801.29it/s]"
          ],
          "name": "stderr"
        },
        {
          "output_type": "stream",
          "text": [
            "[MoviePy] Done.\n",
            "[MoviePy] Writing video /content/roller skating/4.mp4\n"
          ],
          "name": "stdout"
        },
        {
          "output_type": "stream",
          "text": [
            "\n",
            "100%|██████████| 300/300 [00:01<00:00, 152.67it/s]\n"
          ],
          "name": "stderr"
        },
        {
          "output_type": "stream",
          "text": [
            "[MoviePy] Done.\n",
            "[MoviePy] >>>> Video ready: /content/roller skating/4.mp4 \n",
            "\n",
            "50 60 5c9HlCmmAGw\n",
            "[MoviePy] >>>> Building video /content/roller skating/5.mp4\n",
            "[MoviePy] Writing audio in 5TEMP_MPY_wvf_snd.mp3\n"
          ],
          "name": "stdout"
        },
        {
          "output_type": "stream",
          "text": [
            "100%|██████████| 221/221 [00:00<00:00, 644.61it/s]"
          ],
          "name": "stderr"
        },
        {
          "output_type": "stream",
          "text": [
            "[MoviePy] Done.\n",
            "[MoviePy] Writing video /content/roller skating/5.mp4\n"
          ],
          "name": "stdout"
        },
        {
          "output_type": "stream",
          "text": [
            "\n",
            "100%|█████████▉| 250/251 [00:02<00:00, 93.59it/s]\n"
          ],
          "name": "stderr"
        },
        {
          "output_type": "stream",
          "text": [
            "[MoviePy] Done.\n",
            "[MoviePy] >>>> Video ready: /content/roller skating/5.mp4 \n",
            "\n",
            "68 78 6xN_o2A4yfk\n",
            "[MoviePy] >>>> Building video /content/roller skating/6.mp4\n",
            "[MoviePy] Writing audio in 6TEMP_MPY_wvf_snd.mp3\n"
          ],
          "name": "stdout"
        },
        {
          "output_type": "stream",
          "text": [
            "100%|██████████| 221/221 [00:00<00:00, 615.59it/s]"
          ],
          "name": "stderr"
        },
        {
          "output_type": "stream",
          "text": [
            "[MoviePy] Done.\n",
            "[MoviePy] Writing video /content/roller skating/6.mp4\n"
          ],
          "name": "stdout"
        },
        {
          "output_type": "stream",
          "text": [
            "\n",
            "100%|█████████▉| 250/251 [00:04<00:00, 54.87it/s]\n"
          ],
          "name": "stderr"
        },
        {
          "output_type": "stream",
          "text": [
            "[MoviePy] Done.\n",
            "[MoviePy] >>>> Video ready: /content/roller skating/6.mp4 \n",
            "\n",
            "17 27 9Ft1vCRFsbI\n",
            "[MoviePy] >>>> Building video /content/roller skating/7.mp4\n",
            "[MoviePy] Writing audio in 7TEMP_MPY_wvf_snd.mp3\n"
          ],
          "name": "stdout"
        },
        {
          "output_type": "stream",
          "text": [
            "  0%|          | 0/221 [00:00<?, ?it/s]"
          ],
          "name": "stderr"
        },
        {
          "output_type": "stream",
          "text": [
            "Errror\n",
            "166 176 D2NID7pqThs\n"
          ],
          "name": "stdout"
        },
        {
          "output_type": "stream",
          "text": [
            "\n"
          ],
          "name": "stderr"
        },
        {
          "output_type": "stream",
          "text": [
            "[MoviePy] >>>> Building video /content/roller skating/8.mp4\n",
            "[MoviePy] Writing audio in 8TEMP_MPY_wvf_snd.mp3\n"
          ],
          "name": "stdout"
        },
        {
          "output_type": "stream",
          "text": [
            "100%|██████████| 221/221 [00:00<00:00, 590.04it/s]"
          ],
          "name": "stderr"
        },
        {
          "output_type": "stream",
          "text": [
            "[MoviePy] Done.\n",
            "[MoviePy] Writing video /content/roller skating/8.mp4\n"
          ],
          "name": "stdout"
        },
        {
          "output_type": "stream",
          "text": [
            "\n",
            "100%|█████████▉| 250/251 [00:04<00:00, 60.65it/s]\n"
          ],
          "name": "stderr"
        },
        {
          "output_type": "stream",
          "text": [
            "[MoviePy] Done.\n",
            "[MoviePy] >>>> Video ready: /content/roller skating/8.mp4 \n",
            "\n",
            "4 14 DV_kcru3uII\n",
            "[MoviePy] >>>> Building video /content/roller skating/9.mp4\n",
            "[MoviePy] Writing audio in 9TEMP_MPY_wvf_snd.mp3\n"
          ],
          "name": "stdout"
        },
        {
          "output_type": "stream",
          "text": [
            "100%|██████████| 221/221 [00:00<00:00, 1300.84it/s]"
          ],
          "name": "stderr"
        },
        {
          "output_type": "stream",
          "text": [
            "[MoviePy] Done.\n",
            "[MoviePy] Writing video /content/roller skating/9.mp4\n"
          ],
          "name": "stdout"
        },
        {
          "output_type": "stream",
          "text": [
            "\n",
            "100%|██████████| 300/300 [00:01<00:00, 173.93it/s]\n"
          ],
          "name": "stderr"
        },
        {
          "output_type": "stream",
          "text": [
            "[MoviePy] Done.\n",
            "[MoviePy] >>>> Video ready: /content/roller skating/9.mp4 \n",
            "\n",
            "30 40 F1mIQNOHb60\n",
            "[MoviePy] >>>> Building video /content/roller skating/10.mp4\n",
            "[MoviePy] Writing audio in 10TEMP_MPY_wvf_snd.mp3\n"
          ],
          "name": "stdout"
        },
        {
          "output_type": "stream",
          "text": [
            "100%|██████████| 221/221 [00:00<00:00, 812.48it/s]"
          ],
          "name": "stderr"
        },
        {
          "output_type": "stream",
          "text": [
            "[MoviePy] Done.\n",
            "[MoviePy] Writing video /content/roller skating/10.mp4\n"
          ],
          "name": "stdout"
        },
        {
          "output_type": "stream",
          "text": [
            "\n",
            "100%|██████████| 240/240 [00:04<00:00, 52.36it/s]\n"
          ],
          "name": "stderr"
        },
        {
          "output_type": "stream",
          "text": [
            "[MoviePy] Done.\n",
            "[MoviePy] >>>> Video ready: /content/roller skating/10.mp4 \n",
            "\n",
            "191 201 GF4WEdN_H0s\n",
            "[MoviePy] >>>> Building video /content/roller skating/11.mp4\n",
            "[MoviePy] Writing audio in 11TEMP_MPY_wvf_snd.mp3\n"
          ],
          "name": "stdout"
        },
        {
          "output_type": "stream",
          "text": [
            "100%|██████████| 221/221 [00:00<00:00, 650.53it/s]"
          ],
          "name": "stderr"
        },
        {
          "output_type": "stream",
          "text": [
            "[MoviePy] Done.\n",
            "[MoviePy] Writing video /content/roller skating/11.mp4\n"
          ],
          "name": "stdout"
        },
        {
          "output_type": "stream",
          "text": [
            "\n",
            "100%|██████████| 300/300 [00:04<00:00, 74.84it/s]\n"
          ],
          "name": "stderr"
        },
        {
          "output_type": "stream",
          "text": [
            "[MoviePy] Done.\n",
            "[MoviePy] >>>> Video ready: /content/roller skating/11.mp4 \n",
            "\n",
            "57 67 HQj_YmhlaiY\n",
            "[MoviePy] >>>> Building video /content/roller skating/12.mp4\n",
            "[MoviePy] Writing audio in 12TEMP_MPY_wvf_snd.mp3\n"
          ],
          "name": "stdout"
        },
        {
          "output_type": "stream",
          "text": [
            "100%|██████████| 221/221 [00:00<00:00, 841.41it/s]"
          ],
          "name": "stderr"
        },
        {
          "output_type": "stream",
          "text": [
            "[MoviePy] Done.\n",
            "[MoviePy] Writing video /content/roller skating/12.mp4\n"
          ],
          "name": "stdout"
        },
        {
          "output_type": "stream",
          "text": [
            "\n",
            "100%|██████████| 300/300 [00:02<00:00, 148.56it/s]\n"
          ],
          "name": "stderr"
        },
        {
          "output_type": "stream",
          "text": [
            "[MoviePy] Done.\n",
            "[MoviePy] >>>> Video ready: /content/roller skating/12.mp4 \n",
            "\n"
          ],
          "name": "stdout"
        }
      ]
    },
    {
      "cell_type": "code",
      "metadata": {
        "id": "jJY29HmBKGQ4",
        "colab": {
          "base_uri": "https://localhost:8080/"
        },
        "outputId": "5877cae3-4959-4e48-f04e-aa5c3a2c22f1"
      },
      "source": [
        "l"
      ],
      "execution_count": null,
      "outputs": [
        {
          "output_type": "execute_result",
          "data": {
            "text/plain": [
              "[['Roller skating in barn fall 2015.mp4', 8]]"
            ]
          },
          "metadata": {
            "tags": []
          },
          "execution_count": 9
        }
      ]
    },
    {
      "cell_type": "code",
      "metadata": {
        "id": "nCPaiqJwKGVB",
        "colab": {
          "base_uri": "https://localhost:8080/"
        },
        "outputId": "f10ded88-e2a0-4b8c-ca33-e9fe6d9f4126"
      },
      "source": [
        "# trim left videos\n",
        "k=20\n",
        "l1 = []\n",
        "for i in range(len(l)):\n",
        "  try:\n",
        "    \n",
        "    print(val['time_start'][l[i][1]], val['time_end'][l[i][1]], val['youtube_id'][l[i][1]])\n",
        "\n",
        "    clip = VideoFileClip(f\"/content/Validation/{cat}/{l[i][0]}\") \n",
        "    clip = clip.subclip(val['time_start'][l[i][1]], val['time_end'][l[i][1]]) \n",
        "    clip.write_videofile(f\"/content/{cat}/{k}.mp4\")\n",
        "    k+=1\n",
        "  except:\n",
        "    l1.append([ [l[i][0]] , [l[i][1]] ])\n",
        "    k+=1\n",
        "    print(\"Errror\")"
      ],
      "execution_count": null,
      "outputs": [
        {
          "output_type": "stream",
          "text": [
            "166 176 D2NID7pqThs\n",
            "Errror\n"
          ],
          "name": "stdout"
        }
      ]
    },
    {
      "cell_type": "code",
      "metadata": {
        "id": "veg9AsYMKGWm",
        "colab": {
          "base_uri": "https://localhost:8080/"
        },
        "outputId": "be542b2b-03ef-4dc7-e620-f39a84725ce3"
      },
      "source": [
        "l1"
      ],
      "execution_count": null,
      "outputs": [
        {
          "output_type": "execute_result",
          "data": {
            "text/plain": [
              "[[['Roller skating in barn fall 2015.mp4'], [8]]]"
            ]
          },
          "metadata": {
            "tags": []
          },
          "execution_count": 11
        }
      ]
    },
    {
      "cell_type": "code",
      "metadata": {
        "id": "a9sRk0ZfKzzK"
      },
      "source": [
        "count=0"
      ],
      "execution_count": null,
      "outputs": []
    },
    {
      "cell_type": "code",
      "metadata": {
        "id": "TTp20V2OKGan"
      },
      "source": [
        "# Make frames from trimmed videos\n",
        "import os\n",
        "import cv2\n",
        "for i in os.listdir(f\"/content/{cat}\"):\n",
        "    if not os.path.exists(f):\n",
        "        os.mkdir(f)\n",
        "    \n",
        "    vidcap = cv2.VideoCapture(f'/content/{cat}/{i}')\n",
        "    def getFrame(sec):\n",
        "        vidcap.set(cv2.CAP_PROP_POS_MSEC,sec*1000)\n",
        "        hasFrames,image = vidcap.read()\n",
        "        if hasFrames:\n",
        "            cv2.imwrite(f\"{f}/\"+str(count)+\".jpg\", image)     # save frame as JPG file\n",
        "        return hasFrames\n",
        "    sec = 0\n",
        "    frameRate = 0.1 #//it will capture image in each 0.5 second\n",
        "    \n",
        "    success = getFrame(sec)\n",
        "    while success:\n",
        "        count = count + 1\n",
        "        sec = sec + frameRate\n",
        "        sec = round(sec, 2)\n",
        "        success = getFrame(sec) "
      ],
      "execution_count": null,
      "outputs": []
    },
    {
      "cell_type": "code",
      "metadata": {
        "id": "kQHfeH6VKGdk",
        "colab": {
          "base_uri": "https://localhost:8080/"
        },
        "outputId": "d55b9df6-adc5-453a-adc8-bf590f1d2f44"
      },
      "source": [
        "count"
      ],
      "execution_count": null,
      "outputs": [
        {
          "output_type": "execute_result",
          "data": {
            "text/plain": [
              "1200"
            ]
          },
          "metadata": {
            "tags": []
          },
          "execution_count": 14
        }
      ]
    },
    {
      "cell_type": "code",
      "metadata": {
        "id": "LnrqvrHYK1ZN",
        "colab": {
          "base_uri": "https://localhost:8080/"
        },
        "outputId": "1f4c7dc3-4b92-4f6d-bc3d-e82dc5ee5bbe"
      },
      "source": [
        "# count frames in folder\n",
        "c=0\n",
        "for i in os.listdir(f\"/content/{f}\"):\n",
        "  c+=1\n",
        "print(c)"
      ],
      "execution_count": null,
      "outputs": [
        {
          "output_type": "stream",
          "text": [
            "1200\n"
          ],
          "name": "stdout"
        }
      ]
    },
    {
      "cell_type": "code",
      "metadata": {
        "id": "UQD-oA1W3hMs",
        "colab": {
          "base_uri": "https://localhost:8080/",
          "height": 35
        },
        "outputId": "677f44a1-cc77-4a85-9b2a-f4f5912cbe54"
      },
      "source": [
        "# store into the drive\n",
        "shutil.copytree(f\"/content/{f}\",f\"/content/drive/MyDrive/Technocolab/Validation/{f}\")"
      ],
      "execution_count": null,
      "outputs": [
        {
          "output_type": "execute_result",
          "data": {
            "application/vnd.google.colaboratory.intrinsic+json": {
              "type": "string"
            },
            "text/plain": [
              "'/content/drive/MyDrive/Technocolab/Validation/Roller Skating'"
            ]
          },
          "metadata": {
            "tags": []
          },
          "execution_count": 16
        }
      ]
    },
    {
      "cell_type": "code",
      "metadata": {
        "id": "1JqQNXt95zui"
      },
      "source": [
        ""
      ],
      "execution_count": null,
      "outputs": []
    }
  ]
}