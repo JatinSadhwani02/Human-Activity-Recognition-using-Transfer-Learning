{
 "cells": [
  {
   "cell_type": "markdown",
   "metadata": {},
   "source": [
    "# Remove Private Videos and keep public videos in Training.csv"
   ]
  },
  {
   "cell_type": "code",
   "execution_count": 29,
   "metadata": {},
   "outputs": [
    {
     "data": {
      "text/html": [
       "<div>\n",
       "<style scoped>\n",
       "    .dataframe tbody tr th:only-of-type {\n",
       "        vertical-align: middle;\n",
       "    }\n",
       "\n",
       "    .dataframe tbody tr th {\n",
       "        vertical-align: top;\n",
       "    }\n",
       "\n",
       "    .dataframe thead th {\n",
       "        text-align: right;\n",
       "    }\n",
       "</style>\n",
       "<table border=\"1\" class=\"dataframe\">\n",
       "  <thead>\n",
       "    <tr style=\"text-align: right;\">\n",
       "      <th></th>\n",
       "      <th>Unnamed: 0</th>\n",
       "      <th>label</th>\n",
       "      <th>youtube_id</th>\n",
       "      <th>time_start</th>\n",
       "      <th>time_end</th>\n",
       "      <th>split</th>\n",
       "    </tr>\n",
       "  </thead>\n",
       "  <tbody>\n",
       "    <tr>\n",
       "      <th>0</th>\n",
       "      <td>0</td>\n",
       "      <td>paragliding</td>\n",
       "      <td>-efcBtG1KVo</td>\n",
       "      <td>51</td>\n",
       "      <td>61</td>\n",
       "      <td>train</td>\n",
       "    </tr>\n",
       "    <tr>\n",
       "      <th>1</th>\n",
       "      <td>1</td>\n",
       "      <td>paragliding</td>\n",
       "      <td>-eiAd94PTWw</td>\n",
       "      <td>35</td>\n",
       "      <td>45</td>\n",
       "      <td>train</td>\n",
       "    </tr>\n",
       "    <tr>\n",
       "      <th>2</th>\n",
       "      <td>2</td>\n",
       "      <td>paragliding</td>\n",
       "      <td>-enPIivwlsY</td>\n",
       "      <td>1821</td>\n",
       "      <td>1831</td>\n",
       "      <td>train</td>\n",
       "    </tr>\n",
       "    <tr>\n",
       "      <th>3</th>\n",
       "      <td>3</td>\n",
       "      <td>paragliding</td>\n",
       "      <td>-giSKLNiewY</td>\n",
       "      <td>41</td>\n",
       "      <td>51</td>\n",
       "      <td>train</td>\n",
       "    </tr>\n",
       "    <tr>\n",
       "      <th>4</th>\n",
       "      <td>4</td>\n",
       "      <td>paragliding</td>\n",
       "      <td>-qCYMzHkc2k</td>\n",
       "      <td>7</td>\n",
       "      <td>17</td>\n",
       "      <td>train</td>\n",
       "    </tr>\n",
       "  </tbody>\n",
       "</table>\n",
       "</div>"
      ],
      "text/plain": [
       "   Unnamed: 0        label   youtube_id  time_start  time_end  split\n",
       "0           0  paragliding  -efcBtG1KVo          51        61  train\n",
       "1           1  paragliding  -eiAd94PTWw          35        45  train\n",
       "2           2  paragliding  -enPIivwlsY        1821      1831  train\n",
       "3           3  paragliding  -giSKLNiewY          41        51  train\n",
       "4           4  paragliding  -qCYMzHkc2k           7        17  train"
      ]
     },
     "execution_count": 29,
     "metadata": {},
     "output_type": "execute_result"
    }
   ],
   "source": [
    "import pandas as pd\n",
    "train = pd.read_csv('Trainig.csv')\n",
    "train.head()"
   ]
  },
  {
   "cell_type": "code",
   "execution_count": 30,
   "metadata": {},
   "outputs": [
    {
     "data": {
      "text/plain": [
       "(649, 6)"
      ]
     },
     "execution_count": 30,
     "metadata": {},
     "output_type": "execute_result"
    }
   ],
   "source": [
    "train.shape"
   ]
  },
  {
   "cell_type": "code",
   "execution_count": 33,
   "metadata": {},
   "outputs": [
    {
     "name": "stdout",
     "output_type": "stream",
     "text": [
      "cheerleading -NUF_s3hLhE 600\n",
      "cheerleading -PXHUmynekY 601\n",
      "cheerleading -ch-KT3j_mY 602\n",
      "cheerleading -gNiXF-fWRE 603\n",
      "cheerleading -hQo6ONdpcQ 604\n",
      "milking cow -2LiVPczCr8 605\n",
      "milking cow -3N2gRXnmsE 606\n",
      "milking cow -5d8Q_ca7bM 607\n",
      "milking cow -6u7lnRGS58 608\n",
      "milking cow -CbkApe0H-g 609\n",
      "milking cow -K74JEPrJJQ 610\n",
      "milking cow -MYJtLnxUqY 611\n",
      "milking cow -Olw5bPU_RE 612\n",
      "milking cow -gJmR_kGWXE 613\n",
      "milking cow -gQJhQsWFXA 614\n",
      "milking cow -jRvvpzCh7w 615\n",
      "milking cow -ptMoBcBe7Y 616\n",
      "milking cow -tTErlr0HuI 617\n",
      "milking cow -tjARoxdBJw 618\n",
      "milking cow -xxpyScg_vY 619\n",
      "snowboarding -0SoxHZp0SM 620\n",
      "snowboarding -2Km-NboGO4 621\n",
      "snowboarding -6CevYEU9Fw 622\n",
      "snowboarding -8hKdGdvZdg 623\n",
      "snowboarding -9-4fix3fxQ 624\n",
      "snowboarding -AZAa3cH6V0 625\n",
      "snowboarding -ApmVDKi5BU 626\n",
      "snowboarding -CNY_UACaZk 627\n",
      "snowboarding -F0Hh-YYbN4 628\n",
      "snowboarding -MQMUIUkw0I 629\n",
      "snowboarding -NCS1mBFr4w 630\n",
      "snowboarding -QACQuhMlt4 631\n",
      "snowboarding -QAojXhw5UE 632\n",
      "snowboarding -R9Hn7uKzuU 633\n",
      "snowboarding -Vro-aRtfuw 634\n",
      "driving car -KSm0RzIF-Y 635\n",
      "driving car -MVb_xJglWU 636\n",
      "driving car -O3D5G8xrok 637\n",
      "driving car -RdREpFcycY 638\n",
      "driving car -Y7su5UxZkc 639\n",
      "driving car -qzjWXpmWoI 640\n",
      "driving car -vL0AJPil6E 641\n",
      "driving car 00P8qGvMgX4 642\n",
      "driving car 08us014ZLkU 643\n",
      "driving car 09hrf4tspQM 644\n",
      "driving car 0CVnwFc58Rg 645\n",
      "driving car 0OcMQ2Z49gw 646\n",
      "driving car 0VKc8TbBloE 647\n",
      "driving car 0WCttfSBVS8 648\n",
      "driving car 0Zca-a_Zn8o 649\n",
      "Some Error! 0Zca-a_Zn8o\n",
      "Task Completed!\n"
     ]
    }
   ],
   "source": [
    "from pytube import YouTube \n",
    "l=[]\n",
    "for i in range(600 , len(train)):\n",
    "  print(train['label'][i] , train['youtube_id'][i] , i) \n",
    "    \n",
    "  # link of the video to be downloaded \n",
    "  link=f\"https://www.youtube.com/watch?v={train['youtube_id'][i]}\"\n",
    "\n",
    "  try: \n",
    "      # object creation using YouTube\n",
    "      # which was imported in the beginning \n",
    "      yt = YouTube(link)\n",
    "  except: \n",
    "      print(\"Connection Error\") #to handle exception \n",
    "    \n",
    "  try:\n",
    "    filters = yt.streams.filter(progressive=True, file_extension='mp4') \n",
    "\n",
    "    d_video = filters.get_lowest_resolution() \n",
    "#     d_video.download(SAVE_PATH) \n",
    "  except:\n",
    "    l.append(train['youtube_id'][i])\n",
    "    print(\"Some Error!\",train['youtube_id'][i]) \n",
    "print('Task Completed!')\n"
   ]
  },
  {
   "cell_type": "code",
   "execution_count": 34,
   "metadata": {},
   "outputs": [
    {
     "data": {
      "text/plain": [
       "['0Zca-a_Zn8o']"
      ]
     },
     "execution_count": 34,
     "metadata": {},
     "output_type": "execute_result"
    }
   ],
   "source": [
    "l"
   ]
  },
  {
   "cell_type": "code",
   "execution_count": 35,
   "metadata": {},
   "outputs": [],
   "source": [
    "for i in l:\n",
    "  train = train.drop([train[train['youtube_id'] == i ].index[0]],axis=0)"
   ]
  },
  {
   "cell_type": "code",
   "execution_count": 36,
   "metadata": {},
   "outputs": [
    {
     "data": {
      "text/plain": [
       "(649, 9)"
      ]
     },
     "execution_count": 36,
     "metadata": {},
     "output_type": "execute_result"
    }
   ],
   "source": [
    "train.shape"
   ]
  },
  {
   "cell_type": "code",
   "execution_count": 37,
   "metadata": {},
   "outputs": [],
   "source": [
    "train.to_csv(\"Trainig.csv\")"
   ]
  },
  {
   "cell_type": "code",
   "execution_count": 26,
   "metadata": {},
   "outputs": [
    {
     "data": {
      "text/plain": [
       "Index(['Unnamed: 0', 'Unnamed: 0.1', 'Unnamed: 0.1.1', 'Unnamed: 0.1.1.1',\n",
       "       'Unnamed: 0.1.1.1.1', 'label', 'youtube_id', 'time_start', 'time_end',\n",
       "       'split'],\n",
       "      dtype='object')"
      ]
     },
     "execution_count": 26,
     "metadata": {},
     "output_type": "execute_result"
    }
   ],
   "source": [
    "train.columns"
   ]
  },
  {
   "cell_type": "code",
   "execution_count": 27,
   "metadata": {},
   "outputs": [],
   "source": [
    "train.drop(columns = ['Unnamed: 0', 'Unnamed: 0.1', 'Unnamed: 0.1.1', 'Unnamed: 0.1.1.1',\n",
    "       'Unnamed: 0.1.1.1.1'],inplace=True)"
   ]
  },
  {
   "cell_type": "code",
   "execution_count": 28,
   "metadata": {},
   "outputs": [],
   "source": [
    "train.to_csv(\"Trainig.csv\")"
   ]
  },
  {
   "cell_type": "markdown",
   "metadata": {},
   "source": [
    "# Remove Private Videos and keep public videos in Validation.csv"
   ]
  },
  {
   "cell_type": "code",
   "execution_count": 34,
   "metadata": {},
   "outputs": [
    {
     "data": {
      "text/html": [
       "<div>\n",
       "<style scoped>\n",
       "    .dataframe tbody tr th:only-of-type {\n",
       "        vertical-align: middle;\n",
       "    }\n",
       "\n",
       "    .dataframe tbody tr th {\n",
       "        vertical-align: top;\n",
       "    }\n",
       "\n",
       "    .dataframe thead th {\n",
       "        text-align: right;\n",
       "    }\n",
       "</style>\n",
       "<table border=\"1\" class=\"dataframe\">\n",
       "  <thead>\n",
       "    <tr style=\"text-align: right;\">\n",
       "      <th></th>\n",
       "      <th>Unnamed: 0</th>\n",
       "      <th>label</th>\n",
       "      <th>youtube_id</th>\n",
       "      <th>time_start</th>\n",
       "      <th>time_end</th>\n",
       "      <th>split</th>\n",
       "    </tr>\n",
       "  </thead>\n",
       "  <tbody>\n",
       "    <tr>\n",
       "      <th>0</th>\n",
       "      <td>0</td>\n",
       "      <td>paragliding</td>\n",
       "      <td>-errNPiGXF4</td>\n",
       "      <td>39</td>\n",
       "      <td>49</td>\n",
       "      <td>validate</td>\n",
       "    </tr>\n",
       "    <tr>\n",
       "      <th>1</th>\n",
       "      <td>1</td>\n",
       "      <td>paragliding</td>\n",
       "      <td>2DBSZcOBQ_Q</td>\n",
       "      <td>94</td>\n",
       "      <td>104</td>\n",
       "      <td>validate</td>\n",
       "    </tr>\n",
       "    <tr>\n",
       "      <th>2</th>\n",
       "      <td>2</td>\n",
       "      <td>paragliding</td>\n",
       "      <td>35fLDSGGWXc</td>\n",
       "      <td>18</td>\n",
       "      <td>28</td>\n",
       "      <td>validate</td>\n",
       "    </tr>\n",
       "    <tr>\n",
       "      <th>3</th>\n",
       "      <td>3</td>\n",
       "      <td>paragliding</td>\n",
       "      <td>3CVyE039-lA</td>\n",
       "      <td>3</td>\n",
       "      <td>13</td>\n",
       "      <td>validate</td>\n",
       "    </tr>\n",
       "    <tr>\n",
       "      <th>4</th>\n",
       "      <td>4</td>\n",
       "      <td>paragliding</td>\n",
       "      <td>5C3Gyqp-iUA</td>\n",
       "      <td>184</td>\n",
       "      <td>194</td>\n",
       "      <td>validate</td>\n",
       "    </tr>\n",
       "  </tbody>\n",
       "</table>\n",
       "</div>"
      ],
      "text/plain": [
       "   Unnamed: 0        label   youtube_id  time_start  time_end     split\n",
       "0           0  paragliding  -errNPiGXF4          39        49  validate\n",
       "1           1  paragliding  2DBSZcOBQ_Q          94       104  validate\n",
       "2           2  paragliding  35fLDSGGWXc          18        28  validate\n",
       "3           3  paragliding  3CVyE039-lA           3        13  validate\n",
       "4           4  paragliding  5C3Gyqp-iUA         184       194  validate"
      ]
     },
     "execution_count": 34,
     "metadata": {},
     "output_type": "execute_result"
    }
   ],
   "source": [
    "import pandas as pd\n",
    "val = pd.read_csv('Validation.csv')\n",
    "val.head()"
   ]
  },
  {
   "cell_type": "code",
   "execution_count": 35,
   "metadata": {},
   "outputs": [
    {
     "data": {
      "text/plain": [
       "(657, 6)"
      ]
     },
     "execution_count": 35,
     "metadata": {},
     "output_type": "execute_result"
    }
   ],
   "source": [
    "val.shape"
   ]
  },
  {
   "cell_type": "code",
   "execution_count": 18,
   "metadata": {},
   "outputs": [
    {
     "name": "stdout",
     "output_type": "stream",
     "text": [
      "breakdancing 404_0x0fP78 500\n",
      "breakdancing 4T2F4PQ97GE 501\n",
      "breakdancing 4z24HY9Zdrg 502\n",
      "breakdancing 6-nb9jJi_Vo 503\n",
      "breakdancing 67xGZPbmkXI 504\n",
      "breakdancing ATdZsuVa9ss 505\n",
      "breakdancing EheZx6VUz4Q 506\n",
      "breakdancing FEwr9Izi_2E 507\n",
      "breakdancing FLUTSVeTZGg 508\n",
      "breakdancing GXb98Zh2hLc 509\n",
      "snowmobiling 1a_Zi7bW3g8 510\n",
      "snowmobiling 20gCvLBfyzQ 511\n",
      "snowmobiling 5bMWEMYp4PA 512\n",
      "snowmobiling 6mqhj4k1Acs 513\n",
      "snowmobiling 7BRpke5X7iI 514\n",
      "snowmobiling 7ot8nGyVrSM 515\n",
      "snowmobiling 9GXKhXCJaAY 516\n",
      "snowmobiling AXY43w5ZRCs 517\n",
      "snowmobiling BdMMVJE68WY 518\n",
      "snowmobiling BeWV1TmeUMI 519\n",
      "snowmobiling EI6Ljm-Mz8I 520\n",
      "snowmobiling EJIWTnBXGpE 521\n",
      "snowmobiling Eg4WzTM6_3Y 522\n",
      "snowmobiling GZlR0uRkuXw 523\n",
      "snowmobiling HB8nCXxQlk8 524\n",
      "canoeing or kayaking 0L4kvkUfs1U 525\n",
      "canoeing or kayaking 0V61r7VFl9E 526\n",
      "canoeing or kayaking 0lqKvDiwZDc 527\n",
      "canoeing or kayaking 0miLHsKXUkU 528\n",
      "canoeing or kayaking 1f1GgvbqPhU 529\n",
      "canoeing or kayaking 1tuNr4Th22I 530\n",
      "canoeing or kayaking 2ENSwCFJ07A 531\n",
      "canoeing or kayaking 7Y634PdmHfg 532\n",
      "Some Error! 7Y634PdmHfg\n",
      "canoeing or kayaking 9TPkWhaXoOk 533\n",
      "canoeing or kayaking 9cIsiB_i6Ic 534\n",
      "canoeing or kayaking APbBBzEq7oo 535\n",
      "canoeing or kayaking Bi5SWEY6uH8 536\n",
      "canoeing or kayaking CVVl8eqNu6Q 537\n",
      "canoeing or kayaking DIaKcGmlndw 538\n",
      "canoeing or kayaking Fhj3gXyUukk 539\n",
      "headbanging 0QpBzgw3Nd0 540\n",
      "headbanging 1a6q28yVcBo 541\n",
      "headbanging 1vsk3D51Otc 542\n",
      "headbanging 5B_jWSpkG50 543\n",
      "headbanging 6p0z8EmEJyw 544\n",
      "headbanging 7Eo8Rl95Q_M 545\n",
      "headbanging 7m6IfCwJsHw 546\n",
      "headbanging 8JYU9_O1lz8 547\n",
      "headbanging AYb0nV1RWjA 548\n",
      "headbanging AjZ_d0fWUBc 549\n",
      "headbanging DUmFFNmfgAg 550\n",
      "headbanging Ddan3f7RWLE 551\n",
      "headbanging GNKAiDaDBug 552\n",
      "headbanging GNUDkrXspaQ 553\n",
      "headbanging GRscyoaT0Ls 554\n",
      "exercising with an exercise ball -9V1qe3Lk2M 555\n",
      "exercising with an exercise ball -IWwu5GfvVg 556\n",
      "exercising with an exercise ball 03KH2wOyiVw 557\n",
      "exercising with an exercise ball 20hCw-Ff6tY 558\n",
      "exercising with an exercise ball 2zZEfJuxtlY 559\n",
      "exercising with an exercise ball 31SZUsRzwtI 560\n",
      "exercising with an exercise ball 3PZEmjxbXZI 561\n",
      "exercising with an exercise ball 5PEVgA-pRio 562\n",
      "exercising with an exercise ball 8mP1LwGD-UQ 563\n",
      "exercising with an exercise ball AdvnLWH89nI 564\n",
      "exercising with an exercise ball AtoipJ3SZkc 565\n",
      "exercising with an exercise ball BUT8oefH9Nw 566\n",
      "exercising with an exercise ball BdUJ7G6l86Q 567\n",
      "exercising with an exercise ball FMKSzVoKUqg 568\n",
      "exercising with an exercise ball FYJbFn_3hrk 569\n",
      "blowing out candles -1RpglW_MLA 570\n",
      "blowing out candles 1X11ZC0IppQ 571\n",
      "blowing out candles 2dxs9ouQLec 572\n",
      "blowing out candles 4-9_szZr2xo 573\n",
      "blowing out candles 6i6Dvl-MebY 574\n",
      "blowing out candles 7GJ9BPaU250 575\n",
      "blowing out candles 7REDW12JLyM 576\n",
      "blowing out candles 8EV2thGZ9zU 577\n",
      "blowing out candles 9IzWImcF3hM 578\n",
      "blowing out candles 9llCP403aqU 579\n",
      "blowing out candles C0J6EQYYLzI 580\n",
      "blowing out candles D5phX4TjAbs 581\n",
      "blowing out candles FTxa5j8T03k 582\n",
      "blowing out candles FX-MM3_kMrk 583\n",
      "blowing out candles Hp2i2CG11wY 584\n",
      "watering plants -48AuLUK1Is 585\n",
      "watering plants 27zZJ1gOfNc 586\n",
      "watering plants 4147uiLKczU 587\n",
      "watering plants 4cjfqzOfwGM 588\n",
      "Some Error! 4cjfqzOfwGM\n",
      "watering plants 5j5g53FYn4E 589\n",
      "watering plants 7b0sYkelXiQ 590\n",
      "watering plants 81Zhsksm7Yo 591\n",
      "watering plants 9M282d6-CXY 592\n",
      "watering plants 9jbI6rMIGPM 593\n",
      "watering plants A89AWO07yyE 594\n",
      "watering plants BIdw6FZvvHo 595\n",
      "watering plants GYBmUL9lGl0 596\n",
      "watering plants HDvYv4uXxkY 597\n",
      "watering plants JLUTl_YBFjM 598\n",
      "watering plants K7jnQiiT5a4 599\n",
      "cheerleading -WEkSYkXrUM 600\n",
      "cheerleading 15KsrKdmFAY 601\n",
      "cheerleading 2IF0OZuFmX4 602\n",
      "cheerleading 4-F8SE8Pcws 603\n",
      "cheerleading 6LOV6-dkNZE 604\n",
      "cheerleading A7DMjBZyvDY 605\n",
      "cheerleading CXC3mTNNQu4 606\n",
      "cheerleading ELIqTHKEEQE 607\n",
      "cheerleading Gaka1NW8IMU 608\n",
      "cheerleading GpPvaesEbZA 609\n",
      "cheerleading HD6mkc5NsHI 610\n",
      "cheerleading KhncoTehUh4 611\n",
      "cheerleading NAeXDvPrPiw 612\n",
      "cheerleading NEol4wgSLRI 613\n",
      "cheerleading PlwluBqrEzA 614\n",
      "milking cow -0-s1eu4sF4 615\n",
      "milking cow -2Fv5u2YO5s 616\n",
      "milking cow -x6_TtmCCig 617\n",
      "milking cow 03kVLyOhRw4 618\n",
      "milking cow 0K8QJJJ6qwM 619\n",
      "milking cow 2088vEQsN5E 620\n",
      "milking cow 2de_ekKB9Ic 621\n",
      "milking cow 5LyrfZP6Jes 622\n",
      "milking cow 7AYxAwRTUEk 623\n",
      "milking cow 7MtScUibvCE 624\n",
      "milking cow 8XYsaiwTWzs 625\n",
      "Some Error! 8XYsaiwTWzs\n",
      "milking cow 9HcD1X5VVZU 626\n",
      "milking cow 9Spdc9kZV1E 627\n",
      "milking cow ARRsGVokwpc 628\n",
      "milking cow AtmqqCDPN7U 629\n",
      "snowboarding 0ZYTt4o2amM 630\n",
      "snowboarding 0i5IfU3yOxg 631\n",
      "snowboarding 1UO2RdoUuMI 632\n",
      "snowboarding 3bK5xWbkSQ0 633\n",
      "snowboarding 4SNjLULzAoY 634\n",
      "snowboarding 4cjhTsZjNP8 635\n",
      "snowboarding 5VKmWbJMEAo 636\n",
      "snowboarding 7QvVRfUCCds 637\n",
      "snowboarding 7mVk5T6O3wQ 638\n",
      "snowboarding 8tiPKt7_gk8 639\n",
      "snowboarding 9ikpgtHe9RY 640\n",
      "snowboarding CaTS2HVYLbE 641\n",
      "snowboarding Crk0n9XYzCw 642\n",
      "snowboarding FSy2SnnVAA4 643\n",
      "snowboarding HuDg2cF4RmQ 644\n",
      "driving car -54UGh2sZZk 645\n",
      "driving car -5EkeE4syvA 646\n",
      "driving car -yoInW_REsc 647\n",
      "driving car 5EUF1Xl3DFY 648\n",
      "driving car 7KJnQqAQq6M 649\n",
      "driving car 8yRWHKGwKk4 650\n",
      "driving car 9c8Mi1WYwOs 651\n",
      "driving car 9cbRsJVneGE 652\n",
      "driving car CLuayLlBOEY 653\n",
      "driving car CTRKxtzvWq8 654\n",
      "driving car E6cLsQqwcbQ 655\n",
      "driving car Fd8aixrHuyo 656\n",
      "driving car IBz7PG5fOq0 657\n",
      "driving car JYdPH8D6ZcI 658\n",
      "driving car LD_H3ST6TOc 659\n",
      "Task Completed!\n"
     ]
    }
   ],
   "source": [
    "from pytube import YouTube \n",
    "l=[]\n",
    "for i in range(500 , len(val)):\n",
    "  print(val['label'][i] , val['youtube_id'][i] , i) \n",
    "    \n",
    "  # link of the video to be downloaded \n",
    "  link=f\"https://www.youtube.com/watch?v={val['youtube_id'][i]}\"\n",
    "\n",
    "  try: \n",
    "      # object creation using YouTube\n",
    "      # which was imported in the beginning \n",
    "      yt = YouTube(link)\n",
    "  except: \n",
    "      print(\"Connection Error\") #to handle exception \n",
    "    \n",
    "  try:\n",
    "    filters = yt.streams.filter(progressive=True, file_extension='mp4') \n",
    "\n",
    "    d_video = filters.get_lowest_resolution() \n",
    "#     d_video.download(SAVE_PATH) \n",
    "  except:\n",
    "    l.append(val['youtube_id'][i])\n",
    "    print(\"Some Error!\",val['youtube_id'][i]) \n",
    "print('Task Completed!')\n"
   ]
  },
  {
   "cell_type": "code",
   "execution_count": 19,
   "metadata": {},
   "outputs": [
    {
     "data": {
      "text/plain": [
       "['7Y634PdmHfg', '4cjfqzOfwGM', '8XYsaiwTWzs']"
      ]
     },
     "execution_count": 19,
     "metadata": {},
     "output_type": "execute_result"
    }
   ],
   "source": [
    "l"
   ]
  },
  {
   "cell_type": "code",
   "execution_count": 20,
   "metadata": {},
   "outputs": [],
   "source": [
    "for i in l:\n",
    "  val = val.drop([val[val['youtube_id'] == i ].index[0]],axis=0)"
   ]
  },
  {
   "cell_type": "code",
   "execution_count": 21,
   "metadata": {},
   "outputs": [],
   "source": [
    "val.to_csv(\"Validation.csv\")"
   ]
  },
  {
   "cell_type": "code",
   "execution_count": 31,
   "metadata": {},
   "outputs": [
    {
     "data": {
      "text/plain": [
       "Index(['Unnamed: 0', 'Unnamed: 0.1', 'Unnamed: 0.1.1', 'Unnamed: 0.1.1.1',\n",
       "       'label', 'youtube_id', 'time_start', 'time_end', 'split'],\n",
       "      dtype='object')"
      ]
     },
     "execution_count": 31,
     "metadata": {},
     "output_type": "execute_result"
    }
   ],
   "source": [
    "val.columns"
   ]
  },
  {
   "cell_type": "code",
   "execution_count": 32,
   "metadata": {},
   "outputs": [],
   "source": [
    "val.drop(columns=['Unnamed: 0', 'Unnamed: 0.1', 'Unnamed: 0.1.1', 'Unnamed: 0.1.1.1'],inplace=True)"
   ]
  },
  {
   "cell_type": "code",
   "execution_count": 33,
   "metadata": {},
   "outputs": [],
   "source": [
    "val.to_csv(\"Validation.csv\")"
   ]
  },
  {
   "cell_type": "code",
   "execution_count": null,
   "metadata": {},
   "outputs": [],
   "source": []
  }
 ],
 "metadata": {
  "kernelspec": {
   "display_name": "Python 3",
   "language": "python",
   "name": "python3"
  },
  "language_info": {
   "codemirror_mode": {
    "name": "ipython",
    "version": 3
   },
   "file_extension": ".py",
   "mimetype": "text/x-python",
   "name": "python",
   "nbconvert_exporter": "python",
   "pygments_lexer": "ipython3",
   "version": "3.7.1"
  }
 },
 "nbformat": 4,
 "nbformat_minor": 2
}
