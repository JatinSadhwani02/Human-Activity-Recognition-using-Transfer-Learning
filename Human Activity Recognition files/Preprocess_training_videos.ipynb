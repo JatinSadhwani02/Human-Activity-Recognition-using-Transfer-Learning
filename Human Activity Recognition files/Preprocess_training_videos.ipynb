{
 "cells": [
  {
   "cell_type": "code",
   "execution_count": null,
   "metadata": {
    "id": "JeSw4o8FNBB8"
   },
   "outputs": [],
   "source": []
  },
  {
   "cell_type": "markdown",
   "metadata": {
    "id": "4odd0F7v6BtD"
   },
   "source": [
    "# ***Download Videos of each category , trim video and make frames from trimmed videos (It's only for training.csv)***"
   ]
  },
  {
   "cell_type": "code",
   "execution_count": 1,
   "metadata": {
    "colab": {
     "base_uri": "https://localhost:8080/"
    },
    "id": "XPz-zRg7J-sB",
    "outputId": "4781c7b6-f1c4-43d0-f9c7-7651fc365040"
   },
   "outputs": [
    {
     "name": "stdout",
     "output_type": "stream",
     "text": [
      "Imageio: 'ffmpeg-linux64-v3.3.1' was not found on your computer; downloading it now.\n",
      "Try 1. Download from https://github.com/imageio/imageio-binaries/raw/master/ffmpeg/ffmpeg-linux64-v3.3.1 (43.8 MB)\n",
      "Downloading: 8192/45929032 bytes (0.0%)\b\b\b\b\b\b\b\b\b\b\b\b\b\b\b\b\b\b\b\b\b\b\b\b\b\b2080768/45929032 bytes (4.5%)\b\b\b\b\b\b\b\b\b\b\b\b\b\b\b\b\b\b\b\b\b\b\b\b\b\b\b\b\b4947968/45929032 bytes (10.8%)\b\b\b\b\b\b\b\b\b\b\b\b\b\b\b\b\b\b\b\b\b\b\b\b\b\b\b\b\b\b7856128/45929032 bytes (17.1%)\b\b\b\b\b\b\b\b\b\b\b\b\b\b\b\b\b\b\b\b\b\b\b\b\b\b\b\b\b\b10706944/45929032 bytes (23.3%)\b\b\b\b\b\b\b\b\b\b\b\b\b\b\b\b\b\b\b\b\b\b\b\b\b\b\b\b\b\b\b13582336/45929032 bytes (29.6%)\b\b\b\b\b\b\b\b\b\b\b\b\b\b\b\b\b\b\b\b\b\b\b\b\b\b\b\b\b\b\b16572416/45929032 bytes (36.1%)\b\b\b\b\b\b\b\b\b\b\b\b\b\b\b\b\b\b\b\b\b\b\b\b\b\b\b\b\b\b\b19513344/45929032 bytes (42.5%)\b\b\b\b\b\b\b\b\b\b\b\b\b\b\b\b\b\b\b\b\b\b\b\b\b\b\b\b\b\b\b22388736/45929032 bytes (48.7%)\b\b\b\b\b\b\b\b\b\b\b\b\b\b\b\b\b\b\b\b\b\b\b\b\b\b\b\b\b\b\b25321472/45929032 bytes (55.1%)\b\b\b\b\b\b\b\b\b\b\b\b\b\b\b\b\b\b\b\b\b\b\b\b\b\b\b\b\b\b\b28549120/45929032 bytes (62.2%)\b\b\b\b\b\b\b\b\b\b\b\b\b\b\b\b\b\b\b\b\b\b\b\b\b\b\b\b\b\b\b31588352/45929032 bytes (68.8%)\b\b\b\b\b\b\b\b\b\b\b\b\b\b\b\b\b\b\b\b\b\b\b\b\b\b\b\b\b\b\b34537472/45929032 bytes (75.2%)\b\b\b\b\b\b\b\b\b\b\b\b\b\b\b\b\b\b\b\b\b\b\b\b\b\b\b\b\b\b\b37371904/45929032 bytes (81.4%)\b\b\b\b\b\b\b\b\b\b\b\b\b\b\b\b\b\b\b\b\b\b\b\b\b\b\b\b\b\b\b40329216/45929032 bytes (87.8%)\b\b\b\b\b\b\b\b\b\b\b\b\b\b\b\b\b\b\b\b\b\b\b\b\b\b\b\b\b\b\b43122688/45929032 bytes (93.9%)\b\b\b\b\b\b\b\b\b\b\b\b\b\b\b\b\b\b\b\b\b\b\b\b\b\b\b\b\b\b\b45929032/45929032 bytes (100.0%)\n",
      "  Done\n",
      "File saved as /root/.imageio/ffmpeg/ffmpeg-linux64-v3.3.1.\n",
      "Collecting pytube\n",
      "\u001b[?25l  Downloading https://files.pythonhosted.org/packages/91/96/0cc31cb18fda662a5ae235dff33ad66dfbc94bf46f19e9e22cb1960b3253/pytube-10.7.2-py3-none-any.whl (42kB)\n",
      "\u001b[K     |████████████████████████████████| 51kB 2.8MB/s \n",
      "\u001b[?25hInstalling collected packages: pytube\n",
      "Successfully installed pytube-10.7.2\n"
     ]
    }
   ],
   "source": [
    "# Import libraries\n",
    "import pandas as pd\n",
    "import os \n",
    "import shutil\n",
    "import cv2\n",
    "import os\n",
    "from moviepy.editor import *\n",
    "!pip install pytube"
   ]
  },
  {
   "cell_type": "code",
   "execution_count": null,
   "metadata": {
    "id": "ev9qOz4EKCLc"
   },
   "outputs": [],
   "source": [
    "# Remove training folder if exist\n",
    "shutil.rmtree('Training')"
   ]
  },
  {
   "cell_type": "code",
   "execution_count": 2,
   "metadata": {
    "id": "xfuJzXI5KF-t"
   },
   "outputs": [],
   "source": [
    "# Make folder of each category one by one in training folder\n",
    "tra = \"cheerleading\"\n",
    "os.mkdir(\"Training\")\n",
    "os.mkdir(f\"Training/{tra}\")"
   ]
  },
  {
   "cell_type": "code",
   "execution_count": null,
   "metadata": {
    "id": "pDrrjahpuTgO"
   },
   "outputs": [],
   "source": []
  },
  {
   "cell_type": "code",
   "execution_count": 3,
   "metadata": {
    "colab": {
     "base_uri": "https://localhost:8080/",
     "height": 195
    },
    "id": "3B6kHXSlKGBe",
    "outputId": "a0cf9713-adbd-4b67-b4ff-3dc142f9061f"
   },
   "outputs": [
    {
     "data": {
      "text/html": [
       "<div>\n",
       "<style scoped>\n",
       "    .dataframe tbody tr th:only-of-type {\n",
       "        vertical-align: middle;\n",
       "    }\n",
       "\n",
       "    .dataframe tbody tr th {\n",
       "        vertical-align: top;\n",
       "    }\n",
       "\n",
       "    .dataframe thead th {\n",
       "        text-align: right;\n",
       "    }\n",
       "</style>\n",
       "<table border=\"1\" class=\"dataframe\">\n",
       "  <thead>\n",
       "    <tr style=\"text-align: right;\">\n",
       "      <th></th>\n",
       "      <th>Unnamed: 0</th>\n",
       "      <th>label</th>\n",
       "      <th>youtube_id</th>\n",
       "      <th>time_start</th>\n",
       "      <th>time_end</th>\n",
       "      <th>split</th>\n",
       "    </tr>\n",
       "  </thead>\n",
       "  <tbody>\n",
       "    <tr>\n",
       "      <th>0</th>\n",
       "      <td>0</td>\n",
       "      <td>paragliding</td>\n",
       "      <td>-efcBtG1KVo</td>\n",
       "      <td>51</td>\n",
       "      <td>61</td>\n",
       "      <td>train</td>\n",
       "    </tr>\n",
       "    <tr>\n",
       "      <th>1</th>\n",
       "      <td>1</td>\n",
       "      <td>paragliding</td>\n",
       "      <td>-eiAd94PTWw</td>\n",
       "      <td>35</td>\n",
       "      <td>45</td>\n",
       "      <td>train</td>\n",
       "    </tr>\n",
       "    <tr>\n",
       "      <th>2</th>\n",
       "      <td>2</td>\n",
       "      <td>paragliding</td>\n",
       "      <td>-enPIivwlsY</td>\n",
       "      <td>1821</td>\n",
       "      <td>1831</td>\n",
       "      <td>train</td>\n",
       "    </tr>\n",
       "    <tr>\n",
       "      <th>3</th>\n",
       "      <td>3</td>\n",
       "      <td>paragliding</td>\n",
       "      <td>-giSKLNiewY</td>\n",
       "      <td>41</td>\n",
       "      <td>51</td>\n",
       "      <td>train</td>\n",
       "    </tr>\n",
       "    <tr>\n",
       "      <th>4</th>\n",
       "      <td>4</td>\n",
       "      <td>paragliding</td>\n",
       "      <td>-qCYMzHkc2k</td>\n",
       "      <td>7</td>\n",
       "      <td>17</td>\n",
       "      <td>train</td>\n",
       "    </tr>\n",
       "  </tbody>\n",
       "</table>\n",
       "</div>"
      ],
      "text/plain": [
       "   Unnamed: 0        label   youtube_id  time_start  time_end  split\n",
       "0           0  paragliding  -efcBtG1KVo          51        61  train\n",
       "1           1  paragliding  -eiAd94PTWw          35        45  train\n",
       "2           2  paragliding  -enPIivwlsY        1821      1831  train\n",
       "3           3  paragliding  -giSKLNiewY          41        51  train\n",
       "4           4  paragliding  -qCYMzHkc2k           7        17  train"
      ]
     },
     "execution_count": 3,
     "metadata": {
      "tags": []
     },
     "output_type": "execute_result"
    }
   ],
   "source": [
    "# load data\n",
    "train = pd.read_csv(\"/content/drive/MyDrive/Technocolab/Trainig.csv\")\n",
    "train.head()"
   ]
  },
  {
   "cell_type": "code",
   "execution_count": 3,
   "metadata": {
    "id": "Uxr8T7n_N7Lf"
   },
   "outputs": [],
   "source": []
  },
  {
   "cell_type": "code",
   "execution_count": 4,
   "metadata": {
    "colab": {
     "base_uri": "https://localhost:8080/"
    },
    "id": "vAEQiWc0KGEA",
    "outputId": "4de7781d-ee88-4e93-931e-b3ccd16c8c72"
   },
   "outputs": [
    {
     "data": {
      "text/plain": [
       "array(['paragliding', 'catching or throwing baseball', 'dancing macarena',\n",
       "       'laughing', 'eating cake', 'beatboxing', 'feeding birds',\n",
       "       'opening present', 'swinging on something', 'making pizza',\n",
       "       'kitesurfing', 'ice climbing', 'slacklining', 'chopping wood',\n",
       "       'cartwheeling', 'archery', 'welding', 'roller skating',\n",
       "       'playing flute', 'deadlifting', 'bouncing on trampoline',\n",
       "       'shoveling snow', 'playing keyboard', 'celebrating', 'high jump',\n",
       "       'capoeira', 'finger snapping', 'side kick', 'brushing hair',\n",
       "       'cooking sausages', 'throwing ball', 'hammer throw',\n",
       "       'dribbling basketball', 'stretching leg', 'breakdancing',\n",
       "       'snowmobiling', 'canoeing or kayaking', 'headbanging',\n",
       "       'exercising with an exercise ball', 'blowing out candles',\n",
       "       'watering plants', 'cheerleading', 'milking cow', 'snowboarding',\n",
       "       'driving car'], dtype=object)"
      ]
     },
     "execution_count": 4,
     "metadata": {
      "tags": []
     },
     "output_type": "execute_result"
    }
   ],
   "source": [
    "# Check unique values\n",
    "train['label'].unique()"
   ]
  },
  {
   "cell_type": "code",
   "execution_count": 5,
   "metadata": {
    "colab": {
     "base_uri": "https://localhost:8080/",
     "height": 491
    },
    "id": "_T8c_foGKGFn",
    "outputId": "912f4638-38f0-44d3-f76c-69f3f9dcc7c2"
   },
   "outputs": [
    {
     "data": {
      "text/html": [
       "<div>\n",
       "<style scoped>\n",
       "    .dataframe tbody tr th:only-of-type {\n",
       "        vertical-align: middle;\n",
       "    }\n",
       "\n",
       "    .dataframe tbody tr th {\n",
       "        vertical-align: top;\n",
       "    }\n",
       "\n",
       "    .dataframe thead th {\n",
       "        text-align: right;\n",
       "    }\n",
       "</style>\n",
       "<table border=\"1\" class=\"dataframe\">\n",
       "  <thead>\n",
       "    <tr style=\"text-align: right;\">\n",
       "      <th></th>\n",
       "      <th>Unnamed: 0</th>\n",
       "      <th>label</th>\n",
       "      <th>youtube_id</th>\n",
       "      <th>time_start</th>\n",
       "      <th>time_end</th>\n",
       "      <th>split</th>\n",
       "    </tr>\n",
       "  </thead>\n",
       "  <tbody>\n",
       "    <tr>\n",
       "      <th>590</th>\n",
       "      <td>590</td>\n",
       "      <td>cheerleading</td>\n",
       "      <td>-4kKgG116hE</td>\n",
       "      <td>279</td>\n",
       "      <td>289</td>\n",
       "      <td>train</td>\n",
       "    </tr>\n",
       "    <tr>\n",
       "      <th>591</th>\n",
       "      <td>591</td>\n",
       "      <td>cheerleading</td>\n",
       "      <td>-5EWpX5lfRM</td>\n",
       "      <td>18</td>\n",
       "      <td>28</td>\n",
       "      <td>train</td>\n",
       "    </tr>\n",
       "    <tr>\n",
       "      <th>592</th>\n",
       "      <td>592</td>\n",
       "      <td>cheerleading</td>\n",
       "      <td>-5Ea_Vj8ohs</td>\n",
       "      <td>68</td>\n",
       "      <td>78</td>\n",
       "      <td>train</td>\n",
       "    </tr>\n",
       "    <tr>\n",
       "      <th>593</th>\n",
       "      <td>593</td>\n",
       "      <td>cheerleading</td>\n",
       "      <td>-8MxLnIeAG0</td>\n",
       "      <td>409</td>\n",
       "      <td>419</td>\n",
       "      <td>train</td>\n",
       "    </tr>\n",
       "    <tr>\n",
       "      <th>594</th>\n",
       "      <td>594</td>\n",
       "      <td>cheerleading</td>\n",
       "      <td>-FOzZ9GIbrA</td>\n",
       "      <td>24</td>\n",
       "      <td>34</td>\n",
       "      <td>train</td>\n",
       "    </tr>\n",
       "    <tr>\n",
       "      <th>595</th>\n",
       "      <td>595</td>\n",
       "      <td>cheerleading</td>\n",
       "      <td>-Gq-e8AkCPo</td>\n",
       "      <td>6</td>\n",
       "      <td>16</td>\n",
       "      <td>train</td>\n",
       "    </tr>\n",
       "    <tr>\n",
       "      <th>596</th>\n",
       "      <td>596</td>\n",
       "      <td>cheerleading</td>\n",
       "      <td>-KQPRvt8A_0</td>\n",
       "      <td>146</td>\n",
       "      <td>156</td>\n",
       "      <td>train</td>\n",
       "    </tr>\n",
       "    <tr>\n",
       "      <th>597</th>\n",
       "      <td>597</td>\n",
       "      <td>cheerleading</td>\n",
       "      <td>-MP3lJPKpcI</td>\n",
       "      <td>85</td>\n",
       "      <td>95</td>\n",
       "      <td>train</td>\n",
       "    </tr>\n",
       "    <tr>\n",
       "      <th>598</th>\n",
       "      <td>598</td>\n",
       "      <td>cheerleading</td>\n",
       "      <td>-MSdmmApn2w</td>\n",
       "      <td>22</td>\n",
       "      <td>32</td>\n",
       "      <td>train</td>\n",
       "    </tr>\n",
       "    <tr>\n",
       "      <th>599</th>\n",
       "      <td>599</td>\n",
       "      <td>cheerleading</td>\n",
       "      <td>-NRp6QMkfdM</td>\n",
       "      <td>10</td>\n",
       "      <td>20</td>\n",
       "      <td>train</td>\n",
       "    </tr>\n",
       "    <tr>\n",
       "      <th>600</th>\n",
       "      <td>600</td>\n",
       "      <td>cheerleading</td>\n",
       "      <td>-NUF_s3hLhE</td>\n",
       "      <td>4</td>\n",
       "      <td>14</td>\n",
       "      <td>train</td>\n",
       "    </tr>\n",
       "    <tr>\n",
       "      <th>601</th>\n",
       "      <td>601</td>\n",
       "      <td>cheerleading</td>\n",
       "      <td>-PXHUmynekY</td>\n",
       "      <td>191</td>\n",
       "      <td>201</td>\n",
       "      <td>train</td>\n",
       "    </tr>\n",
       "    <tr>\n",
       "      <th>602</th>\n",
       "      <td>602</td>\n",
       "      <td>cheerleading</td>\n",
       "      <td>-ch-KT3j_mY</td>\n",
       "      <td>0</td>\n",
       "      <td>10</td>\n",
       "      <td>train</td>\n",
       "    </tr>\n",
       "    <tr>\n",
       "      <th>603</th>\n",
       "      <td>603</td>\n",
       "      <td>cheerleading</td>\n",
       "      <td>-gNiXF-fWRE</td>\n",
       "      <td>50</td>\n",
       "      <td>60</td>\n",
       "      <td>train</td>\n",
       "    </tr>\n",
       "    <tr>\n",
       "      <th>604</th>\n",
       "      <td>604</td>\n",
       "      <td>cheerleading</td>\n",
       "      <td>-hQo6ONdpcQ</td>\n",
       "      <td>19</td>\n",
       "      <td>29</td>\n",
       "      <td>train</td>\n",
       "    </tr>\n",
       "  </tbody>\n",
       "</table>\n",
       "</div>"
      ],
      "text/plain": [
       "     Unnamed: 0         label   youtube_id  time_start  time_end  split\n",
       "590         590  cheerleading  -4kKgG116hE         279       289  train\n",
       "591         591  cheerleading  -5EWpX5lfRM          18        28  train\n",
       "592         592  cheerleading  -5Ea_Vj8ohs          68        78  train\n",
       "593         593  cheerleading  -8MxLnIeAG0         409       419  train\n",
       "594         594  cheerleading  -FOzZ9GIbrA          24        34  train\n",
       "595         595  cheerleading  -Gq-e8AkCPo           6        16  train\n",
       "596         596  cheerleading  -KQPRvt8A_0         146       156  train\n",
       "597         597  cheerleading  -MP3lJPKpcI          85        95  train\n",
       "598         598  cheerleading  -MSdmmApn2w          22        32  train\n",
       "599         599  cheerleading  -NRp6QMkfdM          10        20  train\n",
       "600         600  cheerleading  -NUF_s3hLhE           4        14  train\n",
       "601         601  cheerleading  -PXHUmynekY         191       201  train\n",
       "602         602  cheerleading  -ch-KT3j_mY           0        10  train\n",
       "603         603  cheerleading  -gNiXF-fWRE          50        60  train\n",
       "604         604  cheerleading  -hQo6ONdpcQ          19        29  train"
      ]
     },
     "execution_count": 5,
     "metadata": {
      "tags": []
     },
     "output_type": "execute_result"
    }
   ],
   "source": [
    "# check length of data\n",
    "train[train['label']==tra]"
   ]
  },
  {
   "cell_type": "code",
   "execution_count": 7,
   "metadata": {
    "colab": {
     "base_uri": "https://localhost:8080/"
    },
    "id": "qbkoyv-qKGJp",
    "outputId": "461be94e-76ac-4352-a3dc-80de9b9eee28"
   },
   "outputs": [
    {
     "name": "stdout",
     "output_type": "stream",
     "text": [
      "cheerleading -MSdmmApn2w 598\n",
      "cheerleading -NRp6QMkfdM 599\n",
      "cheerleading -NUF_s3hLhE 600\n",
      "cheerleading -PXHUmynekY 601\n",
      "cheerleading -ch-KT3j_mY 602\n",
      "cheerleading -gNiXF-fWRE 603\n",
      "cheerleading -hQo6ONdpcQ 604\n",
      "Task Completed!\n"
     ]
    }
   ],
   "source": [
    "# download videos of each category one by one\n",
    "from pytube import YouTube \n",
    "l=[]\n",
    "for i in range(598,605):\n",
    "  print(train['label'][i] , train['youtube_id'][i] , i) \n",
    "  # where to save \n",
    "  SAVE_PATH = f\"/content/Training/{tra}\" #to_do \n",
    "    \n",
    "  # link of the video to be downloaded \n",
    "  link=f\"https://www.youtube.com/watch?v={train['youtube_id'][i]}\"\n",
    " \n",
    "  yt = YouTube(link)\n",
    "  filters = yt.streams.filter(progressive=True, file_extension='mp4') \n",
    "\n",
    "  d_video = filters.get_lowest_resolution() \n",
    "  d_video.download(SAVE_PATH) \n",
    "\n",
    "print('Task Completed!')"
   ]
  },
  {
   "cell_type": "code",
   "execution_count": 8,
   "metadata": {
    "id": "8FLepKUGKGLJ"
   },
   "outputs": [],
   "source": [
    "# make category folder in which we store our trim video\n",
    "os.mkdir(tra)"
   ]
  },
  {
   "cell_type": "code",
   "execution_count": 9,
   "metadata": {
    "colab": {
     "base_uri": "https://localhost:8080/"
    },
    "id": "N8UckRJ7KGPT",
    "outputId": "190a2748-31ac-4ffa-847a-dc9732720387"
   },
   "outputs": [
    {
     "name": "stdout",
     "output_type": "stream",
     "text": [
      "51 61 -efcBtG1KVo\n",
      "[MoviePy] >>>> Building video /content/cheerleading/0.mp4\n",
      "[MoviePy] Writing audio in 0TEMP_MPY_wvf_snd.mp3\n"
     ]
    },
    {
     "name": "stderr",
     "output_type": "stream",
     "text": [
      "100%|██████████| 221/221 [00:00<00:00, 748.57it/s]\n"
     ]
    },
    {
     "name": "stdout",
     "output_type": "stream",
     "text": [
      "[MoviePy] Done.\n",
      "[MoviePy] Writing video /content/cheerleading/0.mp4\n"
     ]
    },
    {
     "name": "stderr",
     "output_type": "stream",
     "text": [
      "100%|██████████| 150/150 [00:01<00:00, 127.22it/s]\n"
     ]
    },
    {
     "name": "stdout",
     "output_type": "stream",
     "text": [
      "[MoviePy] Done.\n",
      "[MoviePy] >>>> Video ready: /content/cheerleading/0.mp4 \n",
      "\n",
      "35 45 -eiAd94PTWw\n",
      "[MoviePy] >>>> Building video /content/cheerleading/1.mp4\n",
      "[MoviePy] Writing audio in 1TEMP_MPY_wvf_snd.mp3\n"
     ]
    },
    {
     "name": "stderr",
     "output_type": "stream",
     "text": [
      "100%|██████████| 221/221 [00:00<00:00, 807.78it/s]"
     ]
    },
    {
     "name": "stdout",
     "output_type": "stream",
     "text": [
      "[MoviePy] Done.\n",
      "[MoviePy] Writing video /content/cheerleading/1.mp4\n"
     ]
    },
    {
     "name": "stderr",
     "output_type": "stream",
     "text": [
      "\n",
      "100%|█████████▉| 250/251 [00:03<00:00, 72.88it/s]\n"
     ]
    },
    {
     "name": "stdout",
     "output_type": "stream",
     "text": [
      "[MoviePy] Done.\n",
      "[MoviePy] >>>> Video ready: /content/cheerleading/1.mp4 \n",
      "\n",
      "1821 1831 -enPIivwlsY\n",
      "Errror\n",
      "41 51 -giSKLNiewY\n",
      "[MoviePy] >>>> Building video /content/cheerleading/3.mp4\n",
      "[MoviePy] Writing audio in 3TEMP_MPY_wvf_snd.mp3\n"
     ]
    },
    {
     "name": "stderr",
     "output_type": "stream",
     "text": [
      "100%|██████████| 221/221 [00:00<00:00, 766.51it/s]"
     ]
    },
    {
     "name": "stdout",
     "output_type": "stream",
     "text": [
      "[MoviePy] Done.\n",
      "[MoviePy] Writing video /content/cheerleading/3.mp4\n"
     ]
    },
    {
     "name": "stderr",
     "output_type": "stream",
     "text": [
      "\n",
      "100%|██████████| 300/300 [00:03<00:00, 84.65it/s]\n"
     ]
    },
    {
     "name": "stdout",
     "output_type": "stream",
     "text": [
      "[MoviePy] Done.\n",
      "[MoviePy] >>>> Video ready: /content/cheerleading/3.mp4 \n",
      "\n",
      "7 17 -qCYMzHkc2k\n",
      "[MoviePy] >>>> Building video /content/cheerleading/4.mp4\n",
      "[MoviePy] Writing audio in 4TEMP_MPY_wvf_snd.mp3\n"
     ]
    },
    {
     "name": "stderr",
     "output_type": "stream",
     "text": [
      "100%|██████████| 221/221 [00:00<00:00, 830.91it/s]"
     ]
    },
    {
     "name": "stdout",
     "output_type": "stream",
     "text": [
      "[MoviePy] Done.\n",
      "[MoviePy] Writing video /content/cheerleading/4.mp4\n"
     ]
    },
    {
     "name": "stderr",
     "output_type": "stream",
     "text": [
      "\n",
      "100%|█████████▉| 300/301 [00:05<00:00, 51.37it/s]\n"
     ]
    },
    {
     "name": "stdout",
     "output_type": "stream",
     "text": [
      "[MoviePy] Done.\n",
      "[MoviePy] >>>> Video ready: /content/cheerleading/4.mp4 \n",
      "\n",
      "53 63 0eE_3nvbClk\n",
      "Errror\n",
      "2 12 0hrx0HwZxME\n",
      "[MoviePy] >>>> Building video /content/cheerleading/6.mp4\n",
      "[MoviePy] Writing audio in 6TEMP_MPY_wvf_snd.mp3\n"
     ]
    },
    {
     "name": "stderr",
     "output_type": "stream",
     "text": [
      "100%|██████████| 221/221 [00:00<00:00, 1029.83it/s]"
     ]
    },
    {
     "name": "stdout",
     "output_type": "stream",
     "text": [
      "[MoviePy] Done.\n",
      "[MoviePy] Writing video /content/cheerleading/6.mp4\n"
     ]
    },
    {
     "name": "stderr",
     "output_type": "stream",
     "text": [
      "\n",
      "100%|█████████▉| 300/301 [00:01<00:00, 257.37it/s]\n"
     ]
    },
    {
     "name": "stdout",
     "output_type": "stream",
     "text": [
      "[MoviePy] Done.\n",
      "[MoviePy] >>>> Video ready: /content/cheerleading/6.mp4 \n",
      "\n",
      "36 46 0vCPUd1WQ4U\n",
      "[MoviePy] >>>> Building video /content/cheerleading/7.mp4\n",
      "[MoviePy] Writing audio in 7TEMP_MPY_wvf_snd.mp3\n"
     ]
    },
    {
     "name": "stderr",
     "output_type": "stream",
     "text": [
      "100%|██████████| 221/221 [00:00<00:00, 717.99it/s]"
     ]
    },
    {
     "name": "stdout",
     "output_type": "stream",
     "text": [
      "[MoviePy] Done.\n",
      "[MoviePy] Writing video /content/cheerleading/7.mp4\n"
     ]
    },
    {
     "name": "stderr",
     "output_type": "stream",
     "text": [
      "\n",
      "100%|█████████▉| 300/301 [00:06<00:00, 43.65it/s]\n"
     ]
    },
    {
     "name": "stdout",
     "output_type": "stream",
     "text": [
      "[MoviePy] Done.\n",
      "[MoviePy] >>>> Video ready: /content/cheerleading/7.mp4 \n",
      "\n",
      "280 290 15LSh_XPils\n",
      "Errror\n",
      "1 11 1EXXo5VUaTg\n",
      "[MoviePy] >>>> Building video /content/cheerleading/9.mp4\n",
      "[MoviePy] Writing audio in 9TEMP_MPY_wvf_snd.mp3\n"
     ]
    },
    {
     "name": "stderr",
     "output_type": "stream",
     "text": [
      "100%|██████████| 221/221 [00:00<00:00, 847.65it/s]"
     ]
    },
    {
     "name": "stdout",
     "output_type": "stream",
     "text": [
      "[MoviePy] Done.\n",
      "[MoviePy] Writing video /content/cheerleading/9.mp4\n"
     ]
    },
    {
     "name": "stderr",
     "output_type": "stream",
     "text": [
      "\n",
      "100%|██████████| 300/300 [00:06<00:00, 44.46it/s]\n"
     ]
    },
    {
     "name": "stdout",
     "output_type": "stream",
     "text": [
      "[MoviePy] Done.\n",
      "[MoviePy] >>>> Video ready: /content/cheerleading/9.mp4 \n",
      "\n",
      "122 132 1EiHodiRTI8\n",
      "[MoviePy] >>>> Building video /content/cheerleading/10.mp4\n",
      "[MoviePy] Writing audio in 10TEMP_MPY_wvf_snd.mp3\n"
     ]
    },
    {
     "name": "stderr",
     "output_type": "stream",
     "text": [
      "100%|██████████| 221/221 [00:00<00:00, 788.77it/s]"
     ]
    },
    {
     "name": "stdout",
     "output_type": "stream",
     "text": [
      "[MoviePy] Done.\n",
      "[MoviePy] Writing video /content/cheerleading/10.mp4\n"
     ]
    },
    {
     "name": "stderr",
     "output_type": "stream",
     "text": [
      "\n",
      " 99%|█████████▉| 150/151 [00:01<00:00, 140.71it/s]\n"
     ]
    },
    {
     "name": "stdout",
     "output_type": "stream",
     "text": [
      "[MoviePy] Done.\n",
      "[MoviePy] >>>> Video ready: /content/cheerleading/10.mp4 \n",
      "\n",
      "35 45 1Ep1RNI0b0U\n",
      "[MoviePy] >>>> Building video /content/cheerleading/11.mp4\n",
      "[MoviePy] Writing audio in 11TEMP_MPY_wvf_snd.mp3\n"
     ]
    },
    {
     "name": "stderr",
     "output_type": "stream",
     "text": [
      "100%|██████████| 221/221 [00:00<00:00, 525.85it/s]"
     ]
    },
    {
     "name": "stdout",
     "output_type": "stream",
     "text": [
      "[MoviePy] Done.\n",
      "[MoviePy] Writing video /content/cheerleading/11.mp4\n"
     ]
    },
    {
     "name": "stderr",
     "output_type": "stream",
     "text": [
      "\n",
      "100%|█████████▉| 300/301 [00:05<00:00, 55.52it/s]\n"
     ]
    },
    {
     "name": "stdout",
     "output_type": "stream",
     "text": [
      "[MoviePy] Done.\n",
      "[MoviePy] >>>> Video ready: /content/cheerleading/11.mp4 \n",
      "\n",
      "111 121 1LN26t34S8c\n",
      "Errror\n"
     ]
    }
   ],
   "source": [
    "# trim video\n",
    "k=0\n",
    "l = []\n",
    "for i in os.listdir(f\"/content/Training/{tra}\"):\n",
    "  try:\n",
    "\n",
    "    print(train['time_start'][k], train['time_end'][k], train['youtube_id'][k])\n",
    "    clip = VideoFileClip(f\"/content/Training/{tra}/{i}\") \n",
    "    clip = clip.subclip(train['time_start'][k], train['time_end'][k]) \n",
    "    clip.write_videofile(f\"/content/{tra}/{k}.mp4\")\n",
    "    k+=1\n",
    "  except:\n",
    "    k+=1\n",
    "    l.append( [i , k] )\n",
    "    print(\"Errror\")"
   ]
  },
  {
   "cell_type": "code",
   "execution_count": 10,
   "metadata": {
    "colab": {
     "base_uri": "https://localhost:8080/"
    },
    "id": "jJY29HmBKGQ4",
    "outputId": "0ee7797a-3a61-4e5e-a318-b96dd5fac395"
   },
   "outputs": [
    {
     "data": {
      "text/plain": [
       "[['2010 albirex cheerleaders.mp4', 3],\n",
       " ['Conner and his cheerleading squad rah rahing on Homecoming Football Game 2012.mp4',\n",
       "  6],\n",
       " ['SWL KT vs SKT Cheering crowd.mp4', 9],\n",
       " ['thomas more cheerleading.mp4', 13]]"
      ]
     },
     "execution_count": 10,
     "metadata": {
      "tags": []
     },
     "output_type": "execute_result"
    }
   ],
   "source": [
    "l"
   ]
  },
  {
   "cell_type": "code",
   "execution_count": 11,
   "metadata": {
    "colab": {
     "base_uri": "https://localhost:8080/"
    },
    "id": "nCPaiqJwKGVB",
    "outputId": "93d47167-81c7-4e53-c4ce-303c36619549"
   },
   "outputs": [
    {
     "name": "stdout",
     "output_type": "stream",
     "text": [
      "41 51 -giSKLNiewY\n",
      "[MoviePy] >>>> Building video /content/cheerleading/20.mp4\n",
      "[MoviePy] Writing audio in 20TEMP_MPY_wvf_snd.mp3\n"
     ]
    },
    {
     "name": "stderr",
     "output_type": "stream",
     "text": [
      "100%|██████████| 221/221 [00:00<00:00, 557.40it/s]\n"
     ]
    },
    {
     "name": "stdout",
     "output_type": "stream",
     "text": [
      "[MoviePy] Done.\n",
      "[MoviePy] Writing video /content/cheerleading/20.mp4\n"
     ]
    },
    {
     "name": "stderr",
     "output_type": "stream",
     "text": [
      "100%|██████████| 300/300 [00:05<00:00, 51.19it/s]\n"
     ]
    },
    {
     "name": "stdout",
     "output_type": "stream",
     "text": [
      "[MoviePy] Done.\n",
      "[MoviePy] >>>> Video ready: /content/cheerleading/20.mp4 \n",
      "\n",
      "2 12 0hrx0HwZxME\n",
      "[MoviePy] >>>> Building video /content/cheerleading/21.mp4\n",
      "[MoviePy] Writing audio in 21TEMP_MPY_wvf_snd.mp3\n"
     ]
    },
    {
     "name": "stderr",
     "output_type": "stream",
     "text": [
      "100%|██████████| 221/221 [00:00<00:00, 676.73it/s]"
     ]
    },
    {
     "name": "stdout",
     "output_type": "stream",
     "text": [
      "[MoviePy] Done.\n",
      "[MoviePy] Writing video /content/cheerleading/21.mp4\n"
     ]
    },
    {
     "name": "stderr",
     "output_type": "stream",
     "text": [
      "\n",
      "100%|██████████| 300/300 [00:05<00:00, 57.03it/s]\n"
     ]
    },
    {
     "name": "stdout",
     "output_type": "stream",
     "text": [
      "[MoviePy] Done.\n",
      "[MoviePy] >>>> Video ready: /content/cheerleading/21.mp4 \n",
      "\n",
      "1 11 1EXXo5VUaTg\n",
      "[MoviePy] >>>> Building video /content/cheerleading/22.mp4\n",
      "[MoviePy] Writing audio in 22TEMP_MPY_wvf_snd.mp3\n"
     ]
    },
    {
     "name": "stderr",
     "output_type": "stream",
     "text": [
      "100%|██████████| 221/221 [00:00<00:00, 828.03it/s]"
     ]
    },
    {
     "name": "stdout",
     "output_type": "stream",
     "text": [
      "[MoviePy] Done.\n",
      "[MoviePy] Writing video /content/cheerleading/22.mp4\n"
     ]
    },
    {
     "name": "stderr",
     "output_type": "stream",
     "text": [
      "\n",
      "100%|██████████| 297/297 [00:05<00:00, 51.74it/s]\n"
     ]
    },
    {
     "name": "stdout",
     "output_type": "stream",
     "text": [
      "[MoviePy] Done.\n",
      "[MoviePy] >>>> Video ready: /content/cheerleading/22.mp4 \n",
      "\n",
      "2 12 1LS1eWN_TbE\n",
      "[MoviePy] >>>> Building video /content/cheerleading/23.mp4\n",
      "[MoviePy] Writing audio in 23TEMP_MPY_wvf_snd.mp3\n"
     ]
    },
    {
     "name": "stderr",
     "output_type": "stream",
     "text": [
      "100%|██████████| 221/221 [00:00<00:00, 625.38it/s]"
     ]
    },
    {
     "name": "stdout",
     "output_type": "stream",
     "text": [
      "[MoviePy] Done.\n",
      "[MoviePy] Writing video /content/cheerleading/23.mp4\n"
     ]
    },
    {
     "name": "stderr",
     "output_type": "stream",
     "text": [
      "\n",
      "100%|██████████| 300/300 [00:07<00:00, 42.05it/s]\n"
     ]
    },
    {
     "name": "stdout",
     "output_type": "stream",
     "text": [
      "[MoviePy] Done.\n",
      "[MoviePy] >>>> Video ready: /content/cheerleading/23.mp4 \n",
      "\n"
     ]
    }
   ],
   "source": [
    "# trim left videos\n",
    "k=20\n",
    "l1 = []\n",
    "for i in range(len(l)):\n",
    "  try:\n",
    "    \n",
    "    print(train['time_start'][l[i][1]], train['time_end'][l[i][1]], train['youtube_id'][l[i][1]])\n",
    "\n",
    "    clip = VideoFileClip(f\"/content/Training/{tra}/{l[i][0]}\") \n",
    "    clip = clip.subclip(train['time_start'][l[i][1]], train['time_end'][l[i][1]]) \n",
    "    clip.write_videofile(f\"/content/{tra}/{k}.mp4\")\n",
    "    k+=1\n",
    "  except:\n",
    "    l1.append([ [l[i][0]] , [l[i][1]] ])\n",
    "    k+=1\n",
    "    print(\"Errror\")"
   ]
  },
  {
   "cell_type": "code",
   "execution_count": 12,
   "metadata": {
    "colab": {
     "base_uri": "https://localhost:8080/"
    },
    "id": "veg9AsYMKGWm",
    "outputId": "67dd23c9-1b20-4962-e61b-3bf8ea2919df"
   },
   "outputs": [
    {
     "data": {
      "text/plain": [
       "[]"
      ]
     },
     "execution_count": 12,
     "metadata": {
      "tags": []
     },
     "output_type": "execute_result"
    }
   ],
   "source": [
    "l1"
   ]
  },
  {
   "cell_type": "code",
   "execution_count": 13,
   "metadata": {
    "id": "a9sRk0ZfKzzK"
   },
   "outputs": [],
   "source": [
    "count=0\n",
    "f=\"Cheerleading\""
   ]
  },
  {
   "cell_type": "code",
   "execution_count": 14,
   "metadata": {
    "id": "TTp20V2OKGan"
   },
   "outputs": [],
   "source": [
    "# Make frames from trimmed videos\n",
    "import os\n",
    "import cv2\n",
    "for i in os.listdir(f\"/content/{tra}\"):\n",
    "    if not os.path.exists(f):\n",
    "        os.mkdir(f)\n",
    "    \n",
    "    vidcap = cv2.VideoCapture(f'/content/{tra}/{i}')\n",
    "    def getFrame(sec):\n",
    "        vidcap.set(cv2.CAP_PROP_POS_MSEC,sec*1000)\n",
    "        hasFrames,image = vidcap.read()\n",
    "        if hasFrames:\n",
    "            cv2.imwrite(f\"{f}/\"+str(count)+\".jpg\", image)     # save frame as JPG file\n",
    "        return hasFrames\n",
    "    sec = 0\n",
    "    frameRate = 0.1 #//it will capture image in each 0.5 second\n",
    "    \n",
    "    success = getFrame(sec)\n",
    "    while success:\n",
    "        count = count + 1\n",
    "        sec = sec + frameRate\n",
    "        sec = round(sec, 2)\n",
    "        success = getFrame(sec)"
   ]
  },
  {
   "cell_type": "code",
   "execution_count": 15,
   "metadata": {
    "colab": {
     "base_uri": "https://localhost:8080/"
    },
    "id": "kQHfeH6VKGdk",
    "outputId": "26ef4076-463e-4cab-cb2f-f4d3c1283f86"
   },
   "outputs": [
    {
     "data": {
      "text/plain": [
       "1302"
      ]
     },
     "execution_count": 15,
     "metadata": {
      "tags": []
     },
     "output_type": "execute_result"
    }
   ],
   "source": [
    "count"
   ]
  },
  {
   "cell_type": "code",
   "execution_count": 16,
   "metadata": {
    "colab": {
     "base_uri": "https://localhost:8080/"
    },
    "id": "LnrqvrHYK1ZN",
    "outputId": "78caf057-e2b9-470d-8f29-4fcdff7c4182"
   },
   "outputs": [
    {
     "name": "stdout",
     "output_type": "stream",
     "text": [
      "1302\n"
     ]
    }
   ],
   "source": [
    "# count frames in folder\n",
    "c=0\n",
    "for i in os.listdir(f\"/content/{f}\"):\n",
    "  c+=1\n",
    "print(c)"
   ]
  },
  {
   "cell_type": "code",
   "execution_count": 17,
   "metadata": {
    "colab": {
     "base_uri": "https://localhost:8080/",
     "height": 35
    },
    "id": "UQD-oA1W3hMs",
    "outputId": "957b9403-7374-4261-a53c-60ba8e8c7338"
   },
   "outputs": [
    {
     "data": {
      "application/vnd.google.colaboratory.intrinsic+json": {
       "type": "string"
      },
      "text/plain": [
       "'/content/drive/MyDrive/Technocolab/Training/Cheerleading'"
      ]
     },
     "execution_count": 17,
     "metadata": {
      "tags": []
     },
     "output_type": "execute_result"
    }
   ],
   "source": [
    "# store into the drive\n",
    "shutil.copytree(f\"/content/{f}\",f\"/content/drive/MyDrive/Technocolab/Training/{f}\") "
   ]
  },
  {
   "cell_type": "code",
   "execution_count": null,
   "metadata": {
    "id": "1JqQNXt95zui"
   },
   "outputs": [],
   "source": []
  }
 ],
 "metadata": {
  "colab": {
   "collapsed_sections": [],
   "name": "Preprocess videos.ipynb",
   "provenance": []
  },
  "kernelspec": {
   "display_name": "Python 3",
   "language": "python",
   "name": "python3"
  },
  "language_info": {
   "codemirror_mode": {
    "name": "ipython",
    "version": 3
   },
   "file_extension": ".py",
   "mimetype": "text/x-python",
   "name": "python",
   "nbconvert_exporter": "python",
   "pygments_lexer": "ipython3",
   "version": "3.7.1"
  }
 },
 "nbformat": 4,
 "nbformat_minor": 1
}
